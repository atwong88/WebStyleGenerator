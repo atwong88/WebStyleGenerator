{
 "cells": [
  {
   "cell_type": "code",
   "execution_count": 1,
   "metadata": {},
   "outputs": [
    {
     "name": "stdout",
     "output_type": "stream",
     "text": [
      "[==================================================] 100.0% 1662.8/1662.8MB downloaded\n"
     ]
    }
   ],
   "source": [
    "import gensim.downloader as api\n",
    "model = api.load('word2vec-google-news-300')"
   ]
  },
  {
   "cell_type": "code",
   "execution_count": 5,
   "metadata": {},
   "outputs": [],
   "source": [
    "import pandas as pd\n",
    "import nltk\n",
    "from gensim.similarities import WmdSimilarity\n",
    "import pickle"
   ]
  },
  {
   "cell_type": "code",
   "execution_count": 12,
   "metadata": {},
   "outputs": [
    {
     "name": "stderr",
     "output_type": "stream",
     "text": [
      "[nltk_data] Downloading package stopwords to /home/matt/nltk_data...\n",
      "[nltk_data]   Unzipping corpora/stopwords.zip.\n"
     ]
    },
    {
     "data": {
      "text/plain": [
       "True"
      ]
     },
     "execution_count": 12,
     "metadata": {},
     "output_type": "execute_result"
    }
   ],
   "source": [
    "nltk.download('stopwords')"
   ]
  },
  {
   "cell_type": "code",
   "execution_count": 13,
   "metadata": {},
   "outputs": [],
   "source": [
    "from nltk.corpus import stopwords\n",
    "from nltk import download\n",
    "stop_words = stopwords.words('english')\n",
    "import gensim"
   ]
  },
  {
   "cell_type": "code",
   "execution_count": 14,
   "metadata": {},
   "outputs": [
    {
     "name": "stderr",
     "output_type": "stream",
     "text": [
      "[nltk_data] Downloading package punkt to /home/matt/nltk_data...\n",
      "[nltk_data]   Package punkt is already up-to-date!\n"
     ]
    }
   ],
   "source": [
    "from nltk import word_tokenize\n",
    "nltk.download('punkt')  # Download data for tokenizer.\n",
    "\n",
    "def preprocess(doc):\n",
    "    doc = doc.lower()  # Lower the text.\n",
    "    doc = word_tokenize(doc)  # Split into words.\n",
    "    doc = [w for w in doc if not w in stop_words]  # Remove stopwords.\n",
    "    doc = [w for w in doc if w.isalpha()]  # Remove numbers and punctuation.\n",
    "    return doc"
   ]
  },
  {
   "cell_type": "code",
   "execution_count": 8,
   "metadata": {},
   "outputs": [],
   "source": [
    "data = pd.read_csv('websites/ParsedWebsitesCleanSample.csv')"
   ]
  },
  {
   "cell_type": "code",
   "execution_count": 34,
   "metadata": {},
   "outputs": [],
   "source": [
    "data = data.dropna()"
   ]
  },
  {
   "cell_type": "code",
   "execution_count": 44,
   "metadata": {},
   "outputs": [],
   "source": [
    "documents = data.values"
   ]
  },
  {
   "cell_type": "code",
   "execution_count": 37,
   "metadata": {},
   "outputs": [],
   "source": [
    "wmd_corpus = data['text'].apply(preprocess).values"
   ]
  },
  {
   "cell_type": "code",
   "execution_count": 41,
   "metadata": {},
   "outputs": [],
   "source": [
    "instance = WmdSimilarity(wmd_corpus, model, num_best=10)"
   ]
  },
  {
   "cell_type": "code",
   "execution_count": 43,
   "metadata": {},
   "outputs": [],
   "source": [
    "pickle.dump(instance,open('WordMoverDistance-Instance.pkl','wb'))"
   ]
  },
  {
   "cell_type": "code",
   "execution_count": 51,
   "metadata": {},
   "outputs": [],
   "source": [
    "def similarityQuery(description):   \n",
    "    query = preprocess(description)\n",
    "    sims = instance[query]  # A query is simply a \"look-up\" in the similarity class.\n",
    "\n",
    "    # Print the query and the retrieved documents, together with their similarities.\n",
    "    results = []\n",
    "    print(description)\n",
    "    for i in range(3):\n",
    "\n",
    "        row = []\n",
    "        row.append(documents[sims[i][0]][0]) # WebsiteKey\n",
    "        row.append(documents[sims[i][0]][2]) # Website\n",
    "        row.append(documents[sims[i][0]][3]) # Colors\n",
    "        row.append(documents[sims[i][0]][4]) # Fonts\n",
    "        \n",
    "        row.append(documents[sims[i][0]][5]) # Text\n",
    "        \n",
    "        row.append(sims[i][1])    # Similarity\n",
    "\n",
    "\n",
    "        results.append(row)\n",
    "    resultsDF = pd.DataFrame(results)\n",
    "    #resultsDF.to_csv(description + '.csv')\n",
    "\n",
    "    resultsDF.columns = ['WebsiteKey','Website','Colours','Fonts','Text','Similarity']\n",
    "    resultsDF = resultsDF.sort_values(by=['Similarity'],ascending=False)\n",
    "    return resultsDF.style.set_properties(subset=['Text'], **{'width': '350px'})\n"
   ]
  },
  {
   "cell_type": "code",
   "execution_count": 52,
   "metadata": {},
   "outputs": [
    {
     "name": "stdout",
     "output_type": "stream",
     "text": [
      "evolution and consciouness and human self discovery lol\n"
     ]
    },
    {
     "data": {
      "text/html": [
       "<style  type=\"text/css\" >\n",
       "    #T_bc2aac50_0fc1_11ea_a0a6_d319e84dab12row0_col4 {\n",
       "            width:  350px;\n",
       "        }    #T_bc2aac50_0fc1_11ea_a0a6_d319e84dab12row1_col4 {\n",
       "            width:  350px;\n",
       "        }    #T_bc2aac50_0fc1_11ea_a0a6_d319e84dab12row2_col4 {\n",
       "            width:  350px;\n",
       "        }</style><table id=\"T_bc2aac50_0fc1_11ea_a0a6_d319e84dab12\" ><thead>    <tr>        <th class=\"blank level0\" ></th>        <th class=\"col_heading level0 col0\" >WebsiteKey</th>        <th class=\"col_heading level0 col1\" >Website</th>        <th class=\"col_heading level0 col2\" >Colours</th>        <th class=\"col_heading level0 col3\" >Fonts</th>        <th class=\"col_heading level0 col4\" >Text</th>        <th class=\"col_heading level0 col5\" >Similarity</th>    </tr></thead><tbody>\n",
       "                <tr>\n",
       "                        <th id=\"T_bc2aac50_0fc1_11ea_a0a6_d319e84dab12level0_row0\" class=\"row_heading level0 row0\" >0</th>\n",
       "                        <td id=\"T_bc2aac50_0fc1_11ea_a0a6_d319e84dab12row0_col0\" class=\"data row0 col0\" >1</td>\n",
       "                        <td id=\"T_bc2aac50_0fc1_11ea_a0a6_d319e84dab12row0_col1\" class=\"data row0 col1\" >evolvedself.com</td>\n",
       "                        <td id=\"T_bc2aac50_0fc1_11ea_a0a6_d319e84dab12row0_col2\" class=\"data row0 col2\" >[['#FFFFFF' 24]\r\n",
       " ['#143EBB' 8]\r\n",
       " ['#FEFCFC' 8]]</td>\n",
       "                        <td id=\"T_bc2aac50_0fc1_11ea_a0a6_d319e84dab12row0_col3\" class=\"data row0 col3\" >[[\"font-family:'Open Sans'\" '7']\r\n",
       " ['font-family:Arial' '52']\r\n",
       " ['font-family:Times New Roman' '2']]</td>\n",
       "                        <td id=\"T_bc2aac50_0fc1_11ea_a0a6_d319e84dab12row0_col4\" class=\"data row0 col4\" >\" rap \"\" \"\" \" What it improvement a what it Improvement Through a New Approach to Evolution The of applied in our and comedy a sleazy and a a Far Past I Find novel our thinking about evolution onto contribution to the field is original a version is deeply by the interaction between d and matter but also grounded in the ordinary of human action He thoughtfully that the quest for an origin story merely a matter of genetic also tied to of the human self and the and self through a finite commentary of human consciousness and the famous ABOUT present our new thinking about publisher at University College then went on to become writer and doubter of many evolutionary with of the for cog up evolution capable of accounting for what it classic an original survey of the development of evolutionary New Framework for Universal two and a we to the field astonishingly a deeply by the d and matter but also grounded in with of the up with of evolution capable for what we know it we of classic evolutionary provide survey of the development of our new and biochemistry at then went on to become a and doubter of IE a \" about \" \" \" class \" rap \" \" \" \"\"\" \" \"\"\" a if IE IE \" \" if</td>\n",
       "                        <td id=\"T_bc2aac50_0fc1_11ea_a0a6_d319e84dab12row0_col5\" class=\"data row0 col5\" >0.468957</td>\n",
       "            </tr>\n",
       "            <tr>\n",
       "                        <th id=\"T_bc2aac50_0fc1_11ea_a0a6_d319e84dab12level0_row1\" class=\"row_heading level0 row1\" >1</th>\n",
       "                        <td id=\"T_bc2aac50_0fc1_11ea_a0a6_d319e84dab12row1_col0\" class=\"data row1 col0\" >170</td>\n",
       "                        <td id=\"T_bc2aac50_0fc1_11ea_a0a6_d319e84dab12row1_col1\" class=\"data row1 col1\" >frozenevolution.com</td>\n",
       "                        <td id=\"T_bc2aac50_0fc1_11ea_a0a6_d319e84dab12row1_col2\" class=\"data row1 col2\" >[['#D7E029' 2]\r\n",
       " ['#F0F0EE' 2]\r\n",
       " ['#EDF1F3' 1]]</td>\n",
       "                        <td id=\"T_bc2aac50_0fc1_11ea_a0a6_d319e84dab12row1_col3\" class=\"data row1 col3\" >[['font-family:Arial,Helvetica,sans-serif' '2']\r\n",
       " ['font-family:\"Bitstream Vera Sans Mono\",Monaco,\"Lucida Console\",monospace'\r\n",
       "  '1']\r\n",
       " ['font-family:Impact,\"Arial Narrow\",Helvetica,sans-serif' '1']]</td>\n",
       "                        <td id=\"T_bc2aac50_0fc1_11ea_a0a6_d319e84dab12row1_col4\" class=\"data row1 col4\" >not the way it Farewell to Selfish to Frozen plasticity theory by links of Evolution link of modification \" Most and biology think that evolutionary biology is basically a d chapter of what if this is not the way are ? What if evolutionary biology underwent a quite fundamental revolution in the s and s of the past which all the in this field should basically be ? c \" bRead $ links only for full node of plasticity link of theory a mechanism of the origin of adaptive in classical mechanism of the origin of adaptive by natural ion can the evolution of such only under a very special a genetically homogeneous population of frozen plasticity theory is much more can also the origin and evolution of adaptive in a genetically heterogeneous population of Read $ links only for full node of Secret Guide to Practical Science How we unintentionally discovered the function of the factor and probably mystery of link of luck always an in think that true for only the general significance of luck in science is can bring the most entirely usually upon when is what in the case of one of possibly the which revealed the influence of the factor on latent in Read $ of $ links only for full node of node block Frozen plasticity the How to Evolution book Load the book Buy to block block About \" s \" block block main by lower added $ footer $ and $ by powered open lower</td>\n",
       "                        <td id=\"T_bc2aac50_0fc1_11ea_a0a6_d319e84dab12row1_col5\" class=\"data row1 col5\" >0.453357</td>\n",
       "            </tr>\n",
       "            <tr>\n",
       "                        <th id=\"T_bc2aac50_0fc1_11ea_a0a6_d319e84dab12level0_row2\" class=\"row_heading level0 row2\" >2</th>\n",
       "                        <td id=\"T_bc2aac50_0fc1_11ea_a0a6_d319e84dab12row2_col0\" class=\"data row2 col0\" >257</td>\n",
       "                        <td id=\"T_bc2aac50_0fc1_11ea_a0a6_d319e84dab12row2_col1\" class=\"data row2 col1\" >pdn.cam.ac.uk</td>\n",
       "                        <td id=\"T_bc2aac50_0fc1_11ea_a0a6_d319e84dab12row2_col2\" class=\"data row2 col2\" >[['#0c5963' 8]\r\n",
       " ['#5F5F5F' 7]\r\n",
       " [' #003a4' 4]]</td>\n",
       "                        <td id=\"T_bc2aac50_0fc1_11ea_a0a6_d319e84dab12row2_col3\" class=\"data row2 col3\" >[['font-family: \"Helvetica Neue\", Arial, FreeSans, sans-serif' '2']\r\n",
       " ['font-family: verdana, arial, sans-serif' '2']\r\n",
       " ['font-family:Arial,FreeSans,sans-serif' '2']]</td>\n",
       "                        <td id=\"T_bc2aac50_0fc1_11ea_a0a6_d319e84dab12row2_col4\" class=\"data row2 col4\" >b if \" \" if \" \" if \" ie \" skip to primary to Study the open to and professional the the University and the and an Public engagement Give business &&&& phone of of us of past and of the Physiological of Veterinary merger of Anatomy and of the physiological of the physiological laboratory Overview Overview Research staff Overview Architecture of the Body Histology Anatomy and Physiology Vertebrate and Neck Human Behaviour and Animal information read Physiology ? Frequently and sessions and about the future ? Veterinary Reproductive for advice about of B Physiology A Functional Architecture of the Body & Histology & A Homeostasis Veterinary Anatomy and Physiology Comparative Vertebrate Biology Head and Neck Anatomy Human Reproduction and Human Behaviour & Animal Reproductive Biology Overview How to to apply to Apply School of Basic and Translational and biology and and function Overview Anatomy Teaching Anatomy Teaching Group Architecture of the and Neck Human Surgical and Radiological with clinical and a course with museum to the Virtual and pathological limb Human anatomy virtual engagement Overview synapse formation brain cancer in pregnancy health of obese by Department an teaching for and offer and for training in to the degree in the Biological Read in is primarily in four and and Reproductive Form and Trophoblast aim of the is to alleviate suffering resulting of pregnancy that remain a major cause of maternal and is a visionary initiative to promote working across the University on the application of advanced technology to more Latest Fellowship \" s work in machine learning been by the national institute for data science and artificial intelligence \" clustering and dispersal at wounds study by the lab in new was chosen as the w of an internal competition among its synapse formation brain cancer study just in a team</td>\n",
       "                        <td id=\"T_bc2aac50_0fc1_11ea_a0a6_d319e84dab12row2_col5\" class=\"data row2 col5\" >0.453322</td>\n",
       "            </tr>\n",
       "    </tbody></table>"
      ],
      "text/plain": [
       "<pandas.io.formats.style.Styler at 0x7f5b3e719438>"
      ]
     },
     "execution_count": 52,
     "metadata": {},
     "output_type": "execute_result"
    }
   ],
   "source": [
    "similarityQuery('evolution and consciouness and human self discovery lol')"
   ]
  },
  {
   "cell_type": "code",
   "execution_count": 53,
   "metadata": {},
   "outputs": [
    {
     "name": "stdout",
     "output_type": "stream",
     "text": [
      "basketball jerseys are on sale\n"
     ]
    },
    {
     "data": {
      "text/html": [
       "<style  type=\"text/css\" >\n",
       "    #T_ee284d3e_0fc1_11ea_a0a6_d319e84dab12row0_col4 {\n",
       "            width:  350px;\n",
       "        }    #T_ee284d3e_0fc1_11ea_a0a6_d319e84dab12row1_col4 {\n",
       "            width:  350px;\n",
       "        }    #T_ee284d3e_0fc1_11ea_a0a6_d319e84dab12row2_col4 {\n",
       "            width:  350px;\n",
       "        }</style><table id=\"T_ee284d3e_0fc1_11ea_a0a6_d319e84dab12\" ><thead>    <tr>        <th class=\"blank level0\" ></th>        <th class=\"col_heading level0 col0\" >WebsiteKey</th>        <th class=\"col_heading level0 col1\" >Website</th>        <th class=\"col_heading level0 col2\" >Colours</th>        <th class=\"col_heading level0 col3\" >Fonts</th>        <th class=\"col_heading level0 col4\" >Text</th>        <th class=\"col_heading level0 col5\" >Similarity</th>    </tr></thead><tbody>\n",
       "                <tr>\n",
       "                        <th id=\"T_ee284d3e_0fc1_11ea_a0a6_d319e84dab12level0_row0\" class=\"row_heading level0 row0\" >0</th>\n",
       "                        <td id=\"T_ee284d3e_0fc1_11ea_a0a6_d319e84dab12row0_col0\" class=\"data row0 col0\" >927</td>\n",
       "                        <td id=\"T_ee284d3e_0fc1_11ea_a0a6_d319e84dab12row0_col1\" class=\"data row0 col1\" >northeast10.org</td>\n",
       "                        <td id=\"T_ee284d3e_0fc1_11ea_a0a6_d319e84dab12row0_col2\" class=\"data row0 col2\" >[['#f9f9f9' 2]\r\n",
       " ['#141a64' 1]\r\n",
       " ['#e6e6e6' 1]]</td>\n",
       "                        <td id=\"T_ee284d3e_0fc1_11ea_a0a6_d319e84dab12row0_col3\" class=\"data row0 col3\" >[[\"font-family: 'raleway'\" '6']\r\n",
       " ['font-family:arial' '5']\r\n",
       " ['font-family:\"GlyphIcons\"' '3']]</td>\n",
       "                        <td id=\"T_ee284d3e_0fc1_11ea_a0a6_d319e84dab12row0_col4\" class=\"data row0 col4\" >b Search \" Sports \" & & \" s Sports \" & & Academic Honor Mentor Sport Academic Success CHAMPIONSHIP SCHEDULE NE HIGHLIGHT \" Basketball \" b \" s Basketball \" \" Golf \" b \" s Golf \" bIce Hockey \" Lacrosse \" b \" s Lacrosse \" b \" Soccer \" b \" s Soccer \" & Diving \" Tennis \" b \" s Tennis \" Track & Track & EMBRACE EMBRACE Brand Brand Look Strategic Policy Policy Member Directory \" Connection \" of \" Cup \" IMPACT Twitter play the to Play for the NE Volleyball Full Story \" s Home NE \" Full Story \" Saint East Region Player of the Soccer \" Full Story \" s Serra NE Volleyball Player of the \" Full the Advance to of NE Volleyball Full the Championship Seven NE Soccer Secure Championship Full the Thriller Saint Rose to NE Full the Volleyball Championship Decided on Final Day of Full Story Schedule \" Basketball \" b at So Video | Live \" Basketball \" bat New | Video | Live \" Basketball \" bat Saint \" Basketball \" at \" l \" b \" Ice Hockey \" at | Live \" Ice Hockey \" at Worcester | Live \" Soccer \" b at Franklin Super Region Second | Live \" Soccer \" | Live \" s Basketball \" bat New | Live \" s Basketball \" at \" l \" b \" s Volleyball \" b \" l \" b Conference | Live Field West Chester \" Soccer \" Second \" s Soccer \" bat Saint Tournament Second | Live \" Ice Hockey \" at Mass Video | Live \" Basketball \" Rose | Live \" Basketball \" at Franklin \" Basketball \" | Live | \" Basketball \" at | Video | Live \" Basketball \" Haven at | \" Basketball \" b \" \" b | \" Basketball \" Pierce at | \" Basketball \" at | Video | \" Basketball \" York Tech of time</td>\n",
       "                        <td id=\"T_ee284d3e_0fc1_11ea_a0a6_d319e84dab12row0_col5\" class=\"data row0 col5\" >0.468292</td>\n",
       "            </tr>\n",
       "            <tr>\n",
       "                        <th id=\"T_ee284d3e_0fc1_11ea_a0a6_d319e84dab12level0_row1\" class=\"row_heading level0 row1\" >1</th>\n",
       "                        <td id=\"T_ee284d3e_0fc1_11ea_a0a6_d319e84dab12row1_col0\" class=\"data row1 col0\" >923</td>\n",
       "                        <td id=\"T_ee284d3e_0fc1_11ea_a0a6_d319e84dab12row1_col1\" class=\"data row1 col1\" >ocaa.com</td>\n",
       "                        <td id=\"T_ee284d3e_0fc1_11ea_a0a6_d319e84dab12row1_col2\" class=\"data row1 col2\" >[['#f9f9f9' 2]\r\n",
       " [' #5B5B5' 1]\r\n",
       " ['#e6e6e6' 1]]</td>\n",
       "                        <td id=\"T_ee284d3e_0fc1_11ea_a0a6_d319e84dab12row1_col3\" class=\"data row1 col3\" >[['font-family:\"Barlow Condensed\",arial' '9']\r\n",
       " ['font-family:\"Lato\",arial' '7']\r\n",
       " ['font-family:arial' '4']]</td>\n",
       "                        <td id=\"T_ee284d3e_0fc1_11ea_a0a6_d319e84dab12row1_col4\" class=\"data row1 col4\" >b Skip to to Skip to Official Home Of the Athletic Association Composite Search \" Baseball \" \" Basketball \" \" s Basketball \" \" \" \" s \" \" Soccer \" \" s Soccer \" \" s Softball \" \" Volleyball \" \" s Volleyball \" LEADERSHIP STRATEGIC THE OFFICE GOLF \" S SOFTBALL \" b \" BASEBALL \" b \" S SOCCER \" b \" SOCCER \" COUNTRY \" S \" GENERAL Of & DEADLINE ATHLETE OF LOGOS & LEADERSHIP STRATEGIC THE OFFICE Twitter Milner theme theme rum footer Skip to to Skip to Official Home Of the Athletic Association Composite Search \" Baseball \" \" Basketball \" \" s Basketball \" \" \" \" s \" \" Soccer \" \" s Soccer \" \" s Softball \" \" Volleyball \" \" s Volleyball \" LEADERSHIP STRATEGIC THE OFFICE GOLF \" S SOFTBALL \" b \" BASEBALL \" b \" S SOCCER \" b \" SOCCER \" COUNTRY \" S \" GENERAL Of & DEADLINE ATHLETE OF LOGOS & Leadership Strategic the More + THE ATHLETIC Athletic Association is the governing body for intercollegiate sports offering quality in the pursuit of athletic Association to the learning process by an environment which academic forum for personal educational student life The inBeing student Academic and athletic and personal active and and fair of organization operative and collaboration responsibility and a safe quality of practice and and communication Twitter Milner theme theme rum footer Skip to to Skip to Official Home Of the Athletic Association Composite Search \" Baseball \" \" Basketball \" \" s Basketball \" \" \" \" s \" \" Soccer \" \" s Soccer \" \" s Softball \" \" Volleyball \" \" s Volleyball \" LEADERSHIP STRATEGIC THE OFFICE GOLF \" S SOFTBALL \" b \" BASEBALL \" b \" S SOCCER \" b \" SOCCER \" COUNTRY \" S \" GENERAL Of & DEADLINE ATHLETE OF LOGOS & Cite</td>\n",
       "                        <td id=\"T_ee284d3e_0fc1_11ea_a0a6_d319e84dab12row1_col5\" class=\"data row1 col5\" >0.466223</td>\n",
       "            </tr>\n",
       "            <tr>\n",
       "                        <th id=\"T_ee284d3e_0fc1_11ea_a0a6_d319e84dab12level0_row2\" class=\"row_heading level0 row2\" >2</th>\n",
       "                        <td id=\"T_ee284d3e_0fc1_11ea_a0a6_d319e84dab12row2_col0\" class=\"data row2 col0\" >848</td>\n",
       "                        <td id=\"T_ee284d3e_0fc1_11ea_a0a6_d319e84dab12row2_col1\" class=\"data row2 col1\" >sturtsabres.com.au</td>\n",
       "                        <td id=\"T_ee284d3e_0fc1_11ea_a0a6_d319e84dab12row2_col2\" class=\"data row2 col2\" >[['#404040' 1]\r\n",
       " ['#F06D65' 1]\r\n",
       " ['#f1f1f1' 1]]</td>\n",
       "                        <td id=\"T_ee284d3e_0fc1_11ea_a0a6_d319e84dab12row2_col3\" class=\"data row2 col3\" >[[\"font-family: 'Roboto', sans-serif\" '9']\r\n",
       " ['font-family: Arial, Helvetica, sans-serif' '1']\r\n",
       " [\"font-family:'FontAwesome'\" '1']]</td>\n",
       "                        <td id=\"T_ee284d3e_0fc1_11ea_a0a6_d319e84dab12row2_col4\" class=\"data row2 col4\" >Basketball Key For Our Intent To Domestic Premier League Hall of CoE Life Sports Plan Member Application Sturt Basketball Club for basketball of any age and successful program is a great introduction to basketball a young player is looking for a Sturt Domestic League all year around during school term time on for For who w to play at a higher the most professional and successful junior program in been crowned the Champion Junior Club in South success over a long period of time \" Sturt in Basketball Premier from to August with on nights and and see our vast majority of whom have graduated from many of whom now play in the National Basketball League National Basketball League \" for who have graduated may not be willing or able to play in our Premier League and who w to continue their association with the club by in our to & to of and Basketball by Sturt Basketball by Added to cart & Sturt Basketball Key For Our Intent To Domestic Premier League Hall of CoE Life Sports Plan Member Application STADIUM AND CLUB to & to d due to school th to Postal c & GENERAL COMMITTEE to & to of and Basketball by Sturt Basketball by Added to cart & Sturt Basketball Key For Our Intent To Domestic Premier League Hall of CoE Life Sports Plan Member Application on the process of our Strategic Plan for A and stakeholder consultation process took place and in of the plan was by the Sturt Basketball Club Management public version of the plan is to & to of and Basketball by Sturt Basketball by Added to cart & Sturt Basketball Key For Our Intent To Domestic Premier League Hall of Player</td>\n",
       "                        <td id=\"T_ee284d3e_0fc1_11ea_a0a6_d319e84dab12row2_col5\" class=\"data row2 col5\" >0.465208</td>\n",
       "            </tr>\n",
       "    </tbody></table>"
      ],
      "text/plain": [
       "<pandas.io.formats.style.Styler at 0x7f59eb2ce7f0>"
      ]
     },
     "execution_count": 53,
     "metadata": {},
     "output_type": "execute_result"
    }
   ],
   "source": [
    "similarityQuery('basketball jerseys are on sale')"
   ]
  }
 ],
 "metadata": {
  "kernelspec": {
   "display_name": "Python 3",
   "language": "python",
   "name": "python3"
  },
  "language_info": {
   "codemirror_mode": {
    "name": "ipython",
    "version": 3
   },
   "file_extension": ".py",
   "mimetype": "text/x-python",
   "name": "python",
   "nbconvert_exporter": "python",
   "pygments_lexer": "ipython3",
   "version": "3.7.3"
  }
 },
 "nbformat": 4,
 "nbformat_minor": 4
}
