{
 "cells": [
  {
   "cell_type": "code",
   "execution_count": 195,
   "metadata": {},
   "outputs": [],
   "source": [
    "%run etl_tumblr_to_cassandra.ipynb\n",
    "\n",
    "import pytumblr\n",
    "import pandas as pd\n",
    "import json\n",
    "from pandas.io.json import json_normalize"
   ]
  },
  {
   "cell_type": "code",
   "execution_count": 196,
   "metadata": {},
   "outputs": [],
   "source": [
    "# Authenticate via OAuth\n",
    "# We only need the consumer key to call \"posts\" function\n",
    "client = pytumblr.TumblrRestClient('nAvaCgNT6dVls4dxKYnWyM1as57L0aSAkSXAayRCPEtNxJSQjr')\n",
    "total_recursive_count = 1 # number of extra layers after the original blog seed\n",
    "starting_seed = 'adriwong' "
   ]
  },
  {
   "cell_type": "code",
   "execution_count": 197,
   "metadata": {},
   "outputs": [],
   "source": [
    "# Output : Series\n",
    "# Input : String seed_blog, Series all_sources, Integer recursive_count\n",
    "# Summary : createSources returns a pandas Series containing blognames that were reblogged by seed_blog without duplicates and NANs\n",
    "def createSources(seed_blog, all_sources, recursive_count):\n",
    "    if recursive_count >= total_recursive_count:\n",
    "        return all_sources\n",
    "    posts_json = client.posts(seed_blog + '.tumblr.com') #json object with all post information\n",
    "    if 'posts' in posts_json:\n",
    "        posts_df = json_normalize(posts_json['posts']) #pandas dataframe\n",
    "        if 'source_title' in posts_df.columns:\n",
    "            sources = posts_df['source_title'].dropna().drop_duplicates() #pandas dataframe containing only blognames\n",
    "            all_sources = all_sources.append(sources)\n",
    "            for s in sources:\n",
    "                all_sources = all_sources.append(createSources(s, all_sources, recursive_count + 1)) #recursive call here\n",
    "    return all_sources.drop_duplicates()"
   ]
  },
  {
   "cell_type": "code",
   "execution_count": 198,
   "metadata": {},
   "outputs": [],
   "source": [
    "# Output : Dictionary\n",
    "# Input : Series sources\n",
    "# Summary : getPostInfo(sources) runs through sources, which is a pandas Series, and returns a dictionay with the blogname as key and necessary data as value\n",
    "def getPostInfo(sources):\n",
    "    info_dict = {}\n",
    "    for blog in sources:\n",
    "        info_dict[blog] = make_json(blog) # make_json is from etl_tumblr_to_cassandra.ipynb\n",
    "    return info_dict"
   ]
  },
  {
   "cell_type": "code",
   "execution_count": 199,
   "metadata": {},
   "outputs": [
    {
     "name": "stdout",
     "output_type": "stream",
     "text": [
      "studioghifli\n",
      "theartofanimation\n",
      "mukuros\n",
      "Warning: blog or posts or date or url is null\n",
      "inluces\n",
      "amy-box\n",
      "sh-izukani\n",
      "tsuiteru\n",
      "bekki-chan\n",
      "akkise\n",
      "Warning: blog or posts or date or url is null\n",
      "phazn\n",
      "shadow-kat-13\n",
      "fuyuuyume\n",
      "shimizuchan\n"
     ]
    }
   ],
   "source": [
    "all_sources = createSources(starting_seed, pd.Series([]), 0)\n",
    "s = json.dumps(getPostInfo(all_sources))\n",
    "f = open(\"tumblrdata1119.json\",\"w+\") \n",
    "f.write(s)\n",
    "f.close()"
   ]
  },
  {
   "cell_type": "code",
   "execution_count": null,
   "metadata": {},
   "outputs": [],
   "source": []
  }
 ],
 "metadata": {
  "kernelspec": {
   "display_name": "Python 3",
   "language": "python",
   "name": "python3"
  },
  "language_info": {
   "codemirror_mode": {
    "name": "ipython",
    "version": 3
   },
   "file_extension": ".py",
   "mimetype": "text/x-python",
   "name": "python",
   "nbconvert_exporter": "python",
   "pygments_lexer": "ipython3",
   "version": "3.7.4"
  }
 },
 "nbformat": 4,
 "nbformat_minor": 4
}
