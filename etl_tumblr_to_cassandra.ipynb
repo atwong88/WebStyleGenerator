{
 "cells": [
  {
   "cell_type": "code",
   "execution_count": 227,
   "metadata": {},
   "outputs": [],
   "source": [
    "import pytumblr\n",
    "# pip install pytumblr -- if not already installed\n",
    "import re, string\n",
    "# regex to exclude html tag\n",
    "import datetime as dt"
   ]
  },
  {
   "cell_type": "code",
   "execution_count": 228,
   "metadata": {},
   "outputs": [],
   "source": [
    "# Authenticate via OAuth\n",
    "# We only need the consumer key to call \"posts\" function\n",
    "client = pytumblr.TumblrRestClient('nAvaCgNT6dVls4dxKYnWyM1as57L0aSAkSXAayRCPEtNxJSQjr')"
   ]
  },
  {
   "cell_type": "code",
   "execution_count": 229,
   "metadata": {},
   "outputs": [],
   "source": [
    "# Make the request\n",
    "# Use minkim25.tumblr.com for test\n",
    "data = client.posts('minkim25.tumblr.com')"
   ]
  },
  {
   "cell_type": "code",
   "execution_count": 230,
   "metadata": {},
   "outputs": [],
   "source": [
    "# ### cassandra table create statement\n",
    "# added 'last_update' column for possible scenario of \"training only using the blogs updated in the last 2 years\"\n",
    "\n",
    "# CREATE TABLE tumblr_data (\n",
    "# \twebsite TEXT,\n",
    "# \tlast_update TIMESTAMP,\n",
    "# \ttitle_font TEXT,\n",
    "# \tbody_font TEXT,\n",
    "# \tback_color TEXT,\n",
    "# \ttext_color TEXT,\n",
    "# \tlink_color TEXT,\n",
    "# \ttitle_text TEXT,\n",
    "# \tbody_text TEXT,\n",
    "# \tPRIMARY KEY (website)\n",
    "# );\n",
    "\n",
    "# ### tumblr data pattern:\n",
    "# 1) only pick 'text' type post => 'posts': [{'type': 'text'~~~}~~~]\n",
    "# 2) fonts and colors are the same for all posts since they are under 'blog' attribute\n",
    "#    but they need body contents. If body is empty, 'trail' will be empty\n",
    "# 3) title and/or body can be empty (if title is empty, 'title': None, whereas 'comment': '' when body is empty)\n",
    "\n",
    "# website = {'blog': {~~~'url': 'THIS'~~~}~~~}\n",
    "# last_update = first in 'posts': [{~~~'date': 'THIS'~~~}~~~]\n",
    "# title_font = first in 'posts': [~~~{~~~'trail': [{'blog': {~~~'theme': {~~~'title_font': 'THIS'~~~}~~~}}]~~~}~~~]\n",
    "# body_font = first in 'posts': [~~~{~~~'trail': [{'blog': {~~~'theme': {~~~'body_font': 'THIS'~~~}~~~}}]~~~}~~~]\n",
    "# back_color = first in 'posts': [~~~{~~~'trail': [{'blog': {~~~'theme': {~~~'background_color': 'THIS'~~~}~~~}}]~~~}~~~]\n",
    "# text_color = first in 'posts': [~~~{~~~'trail': [{'blog': {~~~'theme': {~~~'title_color': 'THIS'~~~}~~~}}]~~~}~~~]\n",
    "# link_color = first in 'posts': [~~~{~~~'trail': [{'blog': {~~~'theme': {~~~'link_color': 'THIS'~~~}~~~}}]~~~}~~~]\n",
    "# title_text = append for every post in 'posts': [~~~{~~~'title': 'THIS'~~~}~~~]\n",
    "# body_text = append for every post in 'posts': [~~~{~~~'reblog': {'comment': 'THIS'~~~}~~~}~~~]"
   ]
  },
  {
   "cell_type": "code",
   "execution_count": 231,
   "metadata": {},
   "outputs": [],
   "source": [
    "# exclude html tags, punctuation, and extra whitespaces\n",
    "\n",
    "def reformat_text(data):\n",
    "    html = re.compile(r'<.*?>')\n",
    "    temp = html.sub(' ', data)\n",
    "    special = re.compile(r'[%s\\s]+' % re.escape(string.punctuation))\n",
    "    temp2 = special.sub(' ', temp)\n",
    "    wspace = re.compile('\\s{2,}')\n",
    "    return wspace.sub(' ', temp2)"
   ]
  },
  {
   "cell_type": "code",
   "execution_count": 232,
   "metadata": {},
   "outputs": [
    {
     "name": "stdout",
     "output_type": "stream",
     "text": [
      "https://minkim25.tumblr.com/\n"
     ]
    }
   ],
   "source": [
    "website = data['blog']['url']\n",
    "print(website)"
   ]
  },
  {
   "cell_type": "code",
   "execution_count": 233,
   "metadata": {},
   "outputs": [
    {
     "name": "stdout",
     "output_type": "stream",
     "text": [
      "2019-11-18 05:08:54\n"
     ]
    }
   ],
   "source": [
    "last_update = data['posts'][0]['date'][:19]\n",
    "last_update = dt.datetime.strptime(last_update, '%Y-%m-%d %H:%M:%S')\n",
    "print(last_update)"
   ]
  },
  {
   "cell_type": "code",
   "execution_count": 234,
   "metadata": {},
   "outputs": [
    {
     "name": "stdout",
     "output_type": "stream",
     "text": [
      "theme: Gibson/Helvetica Neue/#d4e8ff/#444444/#529ECC\n",
      "title:  testing empty body second one first post\n",
      "body:  testing empty title as written in title… one two three test test test This is Young’s first post written for a test purpose Currently working on CMPT732 Project PieSparkDayum Let’s go Dayum \n"
     ]
    }
   ],
   "source": [
    "trail_flag = 0\n",
    "title_text = \"\"\n",
    "body_text = \"\"\n",
    "for post in data['posts']:\n",
    "    if post['type'] == 'text':\n",
    "        if trail_flag == 0 and post['trail'] != []:\n",
    "            theme = post['trail'][0]['blog']['theme']\n",
    "            title_font = theme['title_font']\n",
    "            body_font = theme['body_font']\n",
    "            back_color = theme['background_color']\n",
    "            text_color = theme['title_color']\n",
    "            link_color = theme['link_color']\n",
    "            trail_flag = 1\n",
    "        if post['title'] != None:\n",
    "            title_text = title_text + ' ' + post['title']\n",
    "        if post['reblog']['comment'] != '':\n",
    "            body_text = body_text + ' ' + post['reblog']['comment']\n",
    "\n",
    "title_text = reformat_text(title_text)\n",
    "body_text = reformat_text(body_text)\n",
    "\n",
    "print('theme: ' + title_font + '/' + body_font + '/' + back_color + '/' + text_color + '/' + link_color)\n",
    "print('title: ' + title_text)\n",
    "print('body: ' + body_text)"
   ]
  },
  {
   "cell_type": "code",
   "execution_count": 226,
   "metadata": {},
   "outputs": [],
   "source": []
  },
  {
   "cell_type": "code",
   "execution_count": null,
   "metadata": {},
   "outputs": [],
   "source": []
  }
 ],
 "metadata": {
  "kernelspec": {
   "display_name": "Python 3",
   "language": "python",
   "name": "python3"
  },
  "language_info": {
   "codemirror_mode": {
    "name": "ipython",
    "version": 3
   },
   "file_extension": ".py",
   "mimetype": "text/x-python",
   "name": "python",
   "nbconvert_exporter": "python",
   "pygments_lexer": "ipython3",
   "version": "3.6.5"
  }
 },
 "nbformat": 4,
 "nbformat_minor": 2
}
