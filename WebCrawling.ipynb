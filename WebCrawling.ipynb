{
 "cells": [
  {
   "cell_type": "code",
   "execution_count": 91,
   "metadata": {},
   "outputs": [],
   "source": [
    "from bs4 import BeautifulSoup\n",
    "import urllib, random, re, string\n",
    "import cssutils\n",
    "from pprint import pprint\n",
    "import numpy as np\n",
    "import pandas as pd\n",
    "from pandas.io.formats.style import Styler"
   ]
  },
  {
   "cell_type": "code",
   "execution_count": 2,
   "metadata": {},
   "outputs": [],
   "source": [
    " \n",
    "def visible(element):\n",
    "    #if element.parent.name in [ 'script', '[document]', 'head', 'title','style']:\n",
    "    if element.parent.name in ['[document]', 'script', 'head', 'title']:\n",
    "        return False\n",
    "    elif re.match('<!--.*-->', str(element)):\n",
    "        return False\n",
    "    return True"
   ]
  },
  {
   "cell_type": "code",
   "execution_count": 3,
   "metadata": {},
   "outputs": [],
   "source": [
    "def isAboutPage(element):\n",
    "    if 'about' in element:\n",
    "        return True\n",
    "    return False"
   ]
  },
  {
   "cell_type": "code",
   "execution_count": 4,
   "metadata": {},
   "outputs": [],
   "source": [
    "def websiteText(url):\n",
    "    htmltext = urllib.request.urlopen(url).read()\n",
    "    soup = BeautifulSoup(htmltext)\n",
    "    texts = soup.findAll(text=True)\n",
    "    visible_texts = filter(visible, texts)\n",
    "    result = filter(lambda x: x != '\\n', visible_texts)\n",
    "    articleResult = \"\"\n",
    " \n",
    "    for text in result:\n",
    "        articleResult += str(text.encode(\"utf-8\"))\n",
    " \n",
    "    articleResult = str(articleResult)\n",
    "    #articleResult = BeautifulSoup(articleResult, convertEntities=BeautifulSoup.HTML_ENTITIES)\n",
    " \n",
    "    return articleResult"
   ]
  },
  {
   "cell_type": "code",
   "execution_count": 5,
   "metadata": {},
   "outputs": [],
   "source": [
    "def getAllHrefs(url):\n",
    "    hrefs = []\n",
    "    html_page = urllib.request.urlopen(url)\n",
    "    soup = BeautifulSoup(html_page)\n",
    " \n",
    "    for link in soup.findAll('a'):\n",
    "        href = link.get('href')\n",
    " \n",
    "        if href[0] == '/' :\n",
    "            href = url + href\n",
    "        hrefs.append(href)    \n",
    " \n",
    "    return hrefs"
   ]
  },
  {
   "cell_type": "markdown",
   "metadata": {},
   "source": [
    "# Semantic Text"
   ]
  },
  {
   "cell_type": "code",
   "execution_count": 6,
   "metadata": {},
   "outputs": [],
   "source": [
    "def getAboutPages(url):\n",
    "    allHrefs = getAllHrefs(url)\n",
    " \n",
    "    aboutPages = filter(isAboutPage, allHrefs)\n",
    "    return aboutPages\n",
    "        "
   ]
  },
  {
   "cell_type": "markdown",
   "metadata": {},
   "source": [
    "# Style Text"
   ]
  },
  {
   "cell_type": "code",
   "execution_count": 24,
   "metadata": {},
   "outputs": [],
   "source": [
    "def isProperHex(t):\n",
    "    return bool(re.search('[A-Fa-f0-9]{6}', t))\n"
   ]
  },
  {
   "cell_type": "code",
   "execution_count": 45,
   "metadata": {},
   "outputs": [],
   "source": [
    "def onlyColour(t):\n",
    "    startPos = t.find(':')\n",
    "    return t[startPos+1:startPos+8]"
   ]
  },
  {
   "cell_type": "code",
   "execution_count": 7,
   "metadata": {},
   "outputs": [],
   "source": [
    "def getStylePages(url):\n",
    "    htmltext = urllib.request.urlopen(url).read()\n",
    "    soup = BeautifulSoup(htmltext)\n",
    "    cssSheets = [link[\"href\"] for link in soup.findAll('link') if 'stylesheet' in link.get('rel', [])]\n",
    "    \n",
    "    return [sheet for sheet in cssSheets if ('//' not in sheet or 'https://' in sheet)] "
   ]
  },
  {
   "cell_type": "code",
   "execution_count": 96,
   "metadata": {},
   "outputs": [],
   "source": [
    "def getFonts(url, top=3):\n",
    "    \n",
    "    fonts = []\n",
    "    cssPagesSample = getStylePages(url)\n",
    "    cssPages = list(cssPagesSample)\n",
    "    \n",
    "    for cssPage in cssPages:\n",
    "        if cssPage[0:4]=='http':\n",
    "            styleSample = cssPage\n",
    "        else:\n",
    "            styleSample = url+cssPage\n",
    "            \n",
    "        cssText = urllib.request.urlopen(styleSample).read()\n",
    "        soup = BeautifulSoup(cssText)\n",
    "        cssTextRaw = soup.findAll(text=True)\n",
    "        \n",
    "        if cssTextRaw == []:\n",
    "            break\n",
    "        \n",
    "        for styletag in str(cssTextRaw[0]).split('}'):\n",
    "            if 'font-family' in styletag:\n",
    "                startPos = styletag.find('font-family')\n",
    "                endPos = styletag.find(';',startPos)\n",
    "                fonts.append(styletag[startPos:endPos])\n",
    "                \n",
    "    \n",
    "    fonts = np.array(fonts)\n",
    "    unique, counts = np.unique(fonts, return_counts=True)\n",
    "    \n",
    "    df = pd.DataFrame(np.asarray((unique, counts)).T,columns=['Font','Count'])\n",
    "    df = df.sort_values(by='Count',ascending=False).head(top)\n",
    "    \n",
    "    return df"
   ]
  },
  {
   "cell_type": "code",
   "execution_count": 92,
   "metadata": {},
   "outputs": [],
   "source": [
    "def getBackgroundColors(url, top=3, renderColor = True):\n",
    "    \n",
    "    backgroundColors = []\n",
    "    cssPagesSample = getStylePages(url)\n",
    "    cssPages = list(cssPagesSample)\n",
    "    \n",
    "    #print(cssPages)\n",
    "    \n",
    "    for cssPage in cssPages:\n",
    "        if cssPage[0:4]=='http':\n",
    "            styleSample = cssPage\n",
    "        else:\n",
    "            styleSample = url+cssPage\n",
    "            \n",
    "        cssText = urllib.request.urlopen(styleSample).read()\n",
    "        soup = BeautifulSoup(cssText)\n",
    "        cssTextRaw = soup.findAll(text=True)\n",
    "        \n",
    "        #print(cssTextRaw )\n",
    "        \n",
    "        if cssTextRaw == []:\n",
    "            break\n",
    "        for styletag in str(cssTextRaw[0]).split('}'):\n",
    "            if 'background-color' in styletag:\n",
    "                startPos = styletag.find('background-color')\n",
    "                endPos = styletag.find(';',startPos)\n",
    "                backgroundColors.append(styletag[startPos:endPos])\n",
    "    \n",
    "    bgColors = np.array(backgroundColors)\n",
    "    unique, counts = np.unique(bgColors, return_counts=True)\n",
    "    \n",
    "    df = pd.DataFrame(np.asarray((unique, counts)).T,columns=['Colour','Count'])\n",
    "    df['IsProper'] = df['Colour'].apply(isProperHex)\n",
    "    df = df[df['IsProper']==True]\n",
    "    df['Colour'] = df['Colour'].apply(onlyColour)\n",
    "    df['Count'] = df['Count'].apply(lambda x : int(x))\n",
    "    df = df.drop(['IsProper'],axis=1)\n",
    "    \n",
    "    df = df.sort_values(by='Count',ascending=False).head(top)\n",
    "    \n",
    "    if renderColor:\n",
    "        return df.style.applymap(lambda x:\"background-color: %s\"%x, subset=['Colour']) \n",
    "    else:\n",
    "        return df\n"
   ]
  },
  {
   "cell_type": "markdown",
   "metadata": {},
   "source": [
    "# Testing Area"
   ]
  },
  {
   "cell_type": "code",
   "execution_count": 97,
   "metadata": {},
   "outputs": [
    {
     "data": {
      "text/html": [
       "<div>\n",
       "<style scoped>\n",
       "    .dataframe tbody tr th:only-of-type {\n",
       "        vertical-align: middle;\n",
       "    }\n",
       "\n",
       "    .dataframe tbody tr th {\n",
       "        vertical-align: top;\n",
       "    }\n",
       "\n",
       "    .dataframe thead th {\n",
       "        text-align: right;\n",
       "    }\n",
       "</style>\n",
       "<table border=\"1\" class=\"dataframe\">\n",
       "  <thead>\n",
       "    <tr style=\"text-align: right;\">\n",
       "      <th></th>\n",
       "      <th>Font</th>\n",
       "      <th>Count</th>\n",
       "    </tr>\n",
       "  </thead>\n",
       "  <tbody>\n",
       "    <tr>\n",
       "      <th>16</th>\n",
       "      <td>font-family:inherit</td>\n",
       "      <td>8</td>\n",
       "    </tr>\n",
       "    <tr>\n",
       "      <th>8</th>\n",
       "      <td>font-family:Arial,\"Helvetica Neue\",Helvetica,s...</td>\n",
       "      <td>7</td>\n",
       "    </tr>\n",
       "    <tr>\n",
       "      <th>11</th>\n",
       "      <td>font-family:Arial,\"Helvetica Neue\",Helvetica,s...</td>\n",
       "      <td>6</td>\n",
       "    </tr>\n",
       "  </tbody>\n",
       "</table>\n",
       "</div>"
      ],
      "text/plain": [
       "                                                 Font Count\n",
       "16                                font-family:inherit     8\n",
       "8   font-family:Arial,\"Helvetica Neue\",Helvetica,s...     7\n",
       "11  font-family:Arial,\"Helvetica Neue\",Helvetica,s...     6"
      ]
     },
     "execution_count": 97,
     "metadata": {},
     "output_type": "execute_result"
    }
   ],
   "source": [
    "getFonts('https://www.stackoverflow.com/')"
   ]
  },
  {
   "cell_type": "code",
   "execution_count": 93,
   "metadata": {},
   "outputs": [
    {
     "data": {
      "text/html": [
       "<style  type=\"text/css\" >\n",
       "    #T_5ce69dd4_0c07_11ea_8d3d_2be53f1a5b4frow0_col0 {\n",
       "            background-color:  #eff0f1;\n",
       "        }    #T_5ce69dd4_0c07_11ea_8d3d_2be53f1a5b4frow1_col0 {\n",
       "            background-color:  #d6d9dc;\n",
       "        }    #T_5ce69dd4_0c07_11ea_8d3d_2be53f1a5b4frow2_col0 {\n",
       "            background-color:  #F48024;\n",
       "        }</style><table id=\"T_5ce69dd4_0c07_11ea_8d3d_2be53f1a5b4f\" ><thead>    <tr>        <th class=\"blank level0\" ></th>        <th class=\"col_heading level0 col0\" >Colour</th>        <th class=\"col_heading level0 col1\" >Count</th>    </tr></thead><tbody>\n",
       "                <tr>\n",
       "                        <th id=\"T_5ce69dd4_0c07_11ea_8d3d_2be53f1a5b4flevel0_row0\" class=\"row_heading level0 row0\" >210</th>\n",
       "                        <td id=\"T_5ce69dd4_0c07_11ea_8d3d_2be53f1a5b4frow0_col0\" class=\"data row0 col0\" >#eff0f1</td>\n",
       "                        <td id=\"T_5ce69dd4_0c07_11ea_8d3d_2be53f1a5b4frow0_col1\" class=\"data row0 col1\" >32</td>\n",
       "            </tr>\n",
       "            <tr>\n",
       "                        <th id=\"T_5ce69dd4_0c07_11ea_8d3d_2be53f1a5b4flevel0_row1\" class=\"row_heading level0 row1\" >173</th>\n",
       "                        <td id=\"T_5ce69dd4_0c07_11ea_8d3d_2be53f1a5b4frow1_col0\" class=\"data row1 col0\" >#d6d9dc</td>\n",
       "                        <td id=\"T_5ce69dd4_0c07_11ea_8d3d_2be53f1a5b4frow1_col1\" class=\"data row1 col1\" >9</td>\n",
       "            </tr>\n",
       "            <tr>\n",
       "                        <th id=\"T_5ce69dd4_0c07_11ea_8d3d_2be53f1a5b4flevel0_row2\" class=\"row_heading level0 row2\" >124</th>\n",
       "                        <td id=\"T_5ce69dd4_0c07_11ea_8d3d_2be53f1a5b4frow2_col0\" class=\"data row2 col0\" >#F48024</td>\n",
       "                        <td id=\"T_5ce69dd4_0c07_11ea_8d3d_2be53f1a5b4frow2_col1\" class=\"data row2 col1\" >9</td>\n",
       "            </tr>\n",
       "    </tbody></table>"
      ],
      "text/plain": [
       "<pandas.io.formats.style.Styler at 0x7f4935775a58>"
      ]
     },
     "execution_count": 93,
     "metadata": {},
     "output_type": "execute_result"
    }
   ],
   "source": [
    "getBackgroundColors('https://www.stackoverflow.com/',3)"
   ]
  },
  {
   "cell_type": "code",
   "execution_count": 78,
   "metadata": {},
   "outputs": [
    {
     "data": {
      "text/html": [
       "<style  type=\"text/css\" >\n",
       "    #T_9bb6afa6_0c05_11ea_8d3d_2be53f1a5b4frow0_col0 {\n",
       "            background-color:  #a6192e;\n",
       "        }    #T_9bb6afa6_0c05_11ea_8d3d_2be53f1a5b4frow1_col0 {\n",
       "            background-color:  #f7c7ce;\n",
       "        }    #T_9bb6afa6_0c05_11ea_8d3d_2be53f1a5b4frow2_col0 {\n",
       "            background-color:  #e0d10a;\n",
       "        }</style><table id=\"T_9bb6afa6_0c05_11ea_8d3d_2be53f1a5b4f\" ><thead>    <tr>        <th class=\"blank level0\" ></th>        <th class=\"col_heading level0 col0\" >Colour</th>        <th class=\"col_heading level0 col1\" >Count</th>    </tr></thead><tbody>\n",
       "                <tr>\n",
       "                        <th id=\"T_9bb6afa6_0c05_11ea_8d3d_2be53f1a5b4flevel0_row0\" class=\"row_heading level0 row0\" >25</th>\n",
       "                        <td id=\"T_9bb6afa6_0c05_11ea_8d3d_2be53f1a5b4frow0_col0\" class=\"data row0 col0\" >#a6192e</td>\n",
       "                        <td id=\"T_9bb6afa6_0c05_11ea_8d3d_2be53f1a5b4frow0_col1\" class=\"data row0 col1\" >12</td>\n",
       "            </tr>\n",
       "            <tr>\n",
       "                        <th id=\"T_9bb6afa6_0c05_11ea_8d3d_2be53f1a5b4flevel0_row1\" class=\"row_heading level0 row1\" >43</th>\n",
       "                        <td id=\"T_9bb6afa6_0c05_11ea_8d3d_2be53f1a5b4frow1_col0\" class=\"data row1 col0\" >#f7c7ce</td>\n",
       "                        <td id=\"T_9bb6afa6_0c05_11ea_8d3d_2be53f1a5b4frow1_col1\" class=\"data row1 col1\" >4</td>\n",
       "            </tr>\n",
       "            <tr>\n",
       "                        <th id=\"T_9bb6afa6_0c05_11ea_8d3d_2be53f1a5b4flevel0_row2\" class=\"row_heading level0 row2\" >31</th>\n",
       "                        <td id=\"T_9bb6afa6_0c05_11ea_8d3d_2be53f1a5b4frow2_col0\" class=\"data row2 col0\" >#e0d10a</td>\n",
       "                        <td id=\"T_9bb6afa6_0c05_11ea_8d3d_2be53f1a5b4frow2_col1\" class=\"data row2 col1\" >2</td>\n",
       "            </tr>\n",
       "    </tbody></table>"
      ],
      "text/plain": [
       "<pandas.io.formats.style.Styler at 0x7f4935c86f28>"
      ]
     },
     "execution_count": 78,
     "metadata": {},
     "output_type": "execute_result"
    }
   ],
   "source": [
    "getBackgroundColors('https://www.sfu.ca/',3)"
   ]
  },
  {
   "cell_type": "code",
   "execution_count": 79,
   "metadata": {},
   "outputs": [
    {
     "data": {
      "text/html": [
       "<style  type=\"text/css\" >\n",
       "    #T_a749fbb6_0c05_11ea_8d3d_2be53f1a5b4frow0_col0 {\n",
       "            background-color:  #0680a6;\n",
       "        }    #T_a749fbb6_0c05_11ea_8d3d_2be53f1a5b4frow1_col0 {\n",
       "            background-color:  #002145;\n",
       "        }    #T_a749fbb6_0c05_11ea_8d3d_2be53f1a5b4frow2_col0 {\n",
       "            background-color:  #ab1f2e;\n",
       "        }</style><table id=\"T_a749fbb6_0c05_11ea_8d3d_2be53f1a5b4f\" ><thead>    <tr>        <th class=\"blank level0\" ></th>        <th class=\"col_heading level0 col0\" >Colour</th>        <th class=\"col_heading level0 col1\" >Count</th>    </tr></thead><tbody>\n",
       "                <tr>\n",
       "                        <th id=\"T_a749fbb6_0c05_11ea_8d3d_2be53f1a5b4flevel0_row0\" class=\"row_heading level0 row0\" >2</th>\n",
       "                        <td id=\"T_a749fbb6_0c05_11ea_8d3d_2be53f1a5b4frow0_col0\" class=\"data row0 col0\" >#0680a6</td>\n",
       "                        <td id=\"T_a749fbb6_0c05_11ea_8d3d_2be53f1a5b4frow0_col1\" class=\"data row0 col1\" >4</td>\n",
       "            </tr>\n",
       "            <tr>\n",
       "                        <th id=\"T_a749fbb6_0c05_11ea_8d3d_2be53f1a5b4flevel0_row1\" class=\"row_heading level0 row1\" >1</th>\n",
       "                        <td id=\"T_a749fbb6_0c05_11ea_8d3d_2be53f1a5b4frow1_col0\" class=\"data row1 col0\" >#002145</td>\n",
       "                        <td id=\"T_a749fbb6_0c05_11ea_8d3d_2be53f1a5b4frow1_col1\" class=\"data row1 col1\" >1</td>\n",
       "            </tr>\n",
       "            <tr>\n",
       "                        <th id=\"T_a749fbb6_0c05_11ea_8d3d_2be53f1a5b4flevel0_row2\" class=\"row_heading level0 row2\" >6</th>\n",
       "                        <td id=\"T_a749fbb6_0c05_11ea_8d3d_2be53f1a5b4frow2_col0\" class=\"data row2 col0\" >#ab1f2e</td>\n",
       "                        <td id=\"T_a749fbb6_0c05_11ea_8d3d_2be53f1a5b4frow2_col1\" class=\"data row2 col1\" >1</td>\n",
       "            </tr>\n",
       "    </tbody></table>"
      ],
      "text/plain": [
       "<pandas.io.formats.style.Styler at 0x7f4935c68fd0>"
      ]
     },
     "execution_count": 79,
     "metadata": {},
     "output_type": "execute_result"
    }
   ],
   "source": [
    "getBackgroundColors('https://www.ubc.ca/',3)"
   ]
  },
  {
   "cell_type": "code",
   "execution_count": 80,
   "metadata": {},
   "outputs": [
    {
     "data": {
      "text/html": [
       "<style  type=\"text/css\" >\n",
       "    #T_b6de3f10_0c05_11ea_8d3d_2be53f1a5b4frow0_col0 {\n",
       "            background-color:  #4e4e4e;\n",
       "        }    #T_b6de3f10_0c05_11ea_8d3d_2be53f1a5b4frow1_col0 {\n",
       "            background-color:  #e4b429;\n",
       "        }    #T_b6de3f10_0c05_11ea_8d3d_2be53f1a5b4frow2_col0 {\n",
       "            background-color:  #787878;\n",
       "        }</style><table id=\"T_b6de3f10_0c05_11ea_8d3d_2be53f1a5b4f\" ><thead>    <tr>        <th class=\"blank level0\" ></th>        <th class=\"col_heading level0 col0\" >Colour</th>        <th class=\"col_heading level0 col1\" >Count</th>    </tr></thead><tbody>\n",
       "                <tr>\n",
       "                        <th id=\"T_b6de3f10_0c05_11ea_8d3d_2be53f1a5b4flevel0_row0\" class=\"row_heading level0 row0\" >26</th>\n",
       "                        <td id=\"T_b6de3f10_0c05_11ea_8d3d_2be53f1a5b4frow0_col0\" class=\"data row0 col0\" >#4e4e4e</td>\n",
       "                        <td id=\"T_b6de3f10_0c05_11ea_8d3d_2be53f1a5b4frow0_col1\" class=\"data row0 col1\" >16</td>\n",
       "            </tr>\n",
       "            <tr>\n",
       "                        <th id=\"T_b6de3f10_0c05_11ea_8d3d_2be53f1a5b4flevel0_row1\" class=\"row_heading level0 row1\" >71</th>\n",
       "                        <td id=\"T_b6de3f10_0c05_11ea_8d3d_2be53f1a5b4frow1_col0\" class=\"data row1 col0\" >#e4b429</td>\n",
       "                        <td id=\"T_b6de3f10_0c05_11ea_8d3d_2be53f1a5b4frow1_col1\" class=\"data row1 col1\" >5</td>\n",
       "            </tr>\n",
       "            <tr>\n",
       "                        <th id=\"T_b6de3f10_0c05_11ea_8d3d_2be53f1a5b4flevel0_row2\" class=\"row_heading level0 row2\" >34</th>\n",
       "                        <td id=\"T_b6de3f10_0c05_11ea_8d3d_2be53f1a5b4frow2_col0\" class=\"data row2 col0\" >#787878</td>\n",
       "                        <td id=\"T_b6de3f10_0c05_11ea_8d3d_2be53f1a5b4frow2_col1\" class=\"data row2 col1\" >4</td>\n",
       "            </tr>\n",
       "    </tbody></table>"
      ],
      "text/plain": [
       "<pandas.io.formats.style.Styler at 0x7f4935b3b400>"
      ]
     },
     "execution_count": 80,
     "metadata": {},
     "output_type": "execute_result"
    }
   ],
   "source": [
    "getBackgroundColors('https://www.uwaterloo.ca/',3)"
   ]
  },
  {
   "cell_type": "code",
   "execution_count": 88,
   "metadata": {},
   "outputs": [
    {
     "data": {
      "text/html": [
       "<style  type=\"text/css\" >\n",
       "    #T_27a83674_0c06_11ea_8d3d_2be53f1a5b4frow0_col0 {\n",
       "            background-color:  #f3f3f3;\n",
       "        }    #T_27a83674_0c06_11ea_8d3d_2be53f1a5b4frow1_col0 {\n",
       "            background-color:  #232f3e;\n",
       "        }    #T_27a83674_0c06_11ea_8d3d_2be53f1a5b4frow2_col0 {\n",
       "            background-color:  #444C55;\n",
       "        }    #T_27a83674_0c06_11ea_8d3d_2be53f1a5b4frow3_col0 {\n",
       "            background-color:  #19222d;\n",
       "        }    #T_27a83674_0c06_11ea_8d3d_2be53f1a5b4frow4_col0 {\n",
       "            background-color:  #232F3E;\n",
       "        }</style><table id=\"T_27a83674_0c06_11ea_8d3d_2be53f1a5b4f\" ><thead>    <tr>        <th class=\"blank level0\" ></th>        <th class=\"col_heading level0 col0\" >Colour</th>        <th class=\"col_heading level0 col1\" >Count</th>    </tr></thead><tbody>\n",
       "                <tr>\n",
       "                        <th id=\"T_27a83674_0c06_11ea_8d3d_2be53f1a5b4flevel0_row0\" class=\"row_heading level0 row0\" >64</th>\n",
       "                        <td id=\"T_27a83674_0c06_11ea_8d3d_2be53f1a5b4frow0_col0\" class=\"data row0 col0\" >#f3f3f3</td>\n",
       "                        <td id=\"T_27a83674_0c06_11ea_8d3d_2be53f1a5b4frow0_col1\" class=\"data row0 col1\" >18</td>\n",
       "            </tr>\n",
       "            <tr>\n",
       "                        <th id=\"T_27a83674_0c06_11ea_8d3d_2be53f1a5b4flevel0_row1\" class=\"row_heading level0 row1\" >11</th>\n",
       "                        <td id=\"T_27a83674_0c06_11ea_8d3d_2be53f1a5b4frow1_col0\" class=\"data row1 col0\" >#232f3e</td>\n",
       "                        <td id=\"T_27a83674_0c06_11ea_8d3d_2be53f1a5b4frow1_col1\" class=\"data row1 col1\" >6</td>\n",
       "            </tr>\n",
       "            <tr>\n",
       "                        <th id=\"T_27a83674_0c06_11ea_8d3d_2be53f1a5b4flevel0_row2\" class=\"row_heading level0 row2\" >18</th>\n",
       "                        <td id=\"T_27a83674_0c06_11ea_8d3d_2be53f1a5b4frow2_col0\" class=\"data row2 col0\" >#444C55</td>\n",
       "                        <td id=\"T_27a83674_0c06_11ea_8d3d_2be53f1a5b4frow2_col1\" class=\"data row2 col1\" >3</td>\n",
       "            </tr>\n",
       "            <tr>\n",
       "                        <th id=\"T_27a83674_0c06_11ea_8d3d_2be53f1a5b4flevel0_row3\" class=\"row_heading level0 row3\" >8</th>\n",
       "                        <td id=\"T_27a83674_0c06_11ea_8d3d_2be53f1a5b4frow3_col0\" class=\"data row3 col0\" >#19222d</td>\n",
       "                        <td id=\"T_27a83674_0c06_11ea_8d3d_2be53f1a5b4frow3_col1\" class=\"data row3 col1\" >3</td>\n",
       "            </tr>\n",
       "            <tr>\n",
       "                        <th id=\"T_27a83674_0c06_11ea_8d3d_2be53f1a5b4flevel0_row4\" class=\"row_heading level0 row4\" >9</th>\n",
       "                        <td id=\"T_27a83674_0c06_11ea_8d3d_2be53f1a5b4frow4_col0\" class=\"data row4 col0\" >#232F3E</td>\n",
       "                        <td id=\"T_27a83674_0c06_11ea_8d3d_2be53f1a5b4frow4_col1\" class=\"data row4 col1\" >3</td>\n",
       "            </tr>\n",
       "    </tbody></table>"
      ],
      "text/plain": [
       "<pandas.io.formats.style.Styler at 0x7f4935782f60>"
      ]
     },
     "execution_count": 88,
     "metadata": {},
     "output_type": "execute_result"
    }
   ],
   "source": [
    "getBackgroundColors('https://www.amazon.ca',5)"
   ]
  },
  {
   "cell_type": "code",
   "execution_count": 84,
   "metadata": {},
   "outputs": [
    {
     "data": {
      "text/html": [
       "<style  type=\"text/css\" >\n",
       "</style><table id=\"T_0fb6f94c_0c06_11ea_8d3d_2be53f1a5b4f\" ><thead>    <tr>        <th class=\"blank level0\" ></th>        <th class=\"col_heading level0 col0\" >Colour</th>        <th class=\"col_heading level0 col1\" >Count</th>    </tr></thead><tbody>\n",
       "        </tbody></table>"
      ],
      "text/plain": [
       "<pandas.io.formats.style.Styler at 0x7f4935bada20>"
      ]
     },
     "execution_count": 84,
     "metadata": {},
     "output_type": "execute_result"
    }
   ],
   "source": [
    "getBackgroundColors('https://www.dell.com/en-ca',3)"
   ]
  },
  {
   "cell_type": "raw",
   "metadata": {},
   "source": [
    "Oh no. Apparently Dell doesn't use any colours?"
   ]
  },
  {
   "cell_type": "code",
   "execution_count": 89,
   "metadata": {},
   "outputs": [
    {
     "data": {
      "text/html": [
       "<style  type=\"text/css\" >\n",
       "    #T_39b141d0_0c06_11ea_8d3d_2be53f1a5b4frow0_col0 {\n",
       "            background-color:   #001e7;\n",
       "        }    #T_39b141d0_0c06_11ea_8d3d_2be53f1a5b4frow1_col0 {\n",
       "            background-color:   #e0e6e;\n",
       "        }    #T_39b141d0_0c06_11ea_8d3d_2be53f1a5b4frow2_col0 {\n",
       "            background-color:   #f4f6f;\n",
       "        }</style><table id=\"T_39b141d0_0c06_11ea_8d3d_2be53f1a5b4f\" ><thead>    <tr>        <th class=\"blank level0\" ></th>        <th class=\"col_heading level0 col0\" >Colour</th>        <th class=\"col_heading level0 col1\" >Count</th>    </tr></thead><tbody>\n",
       "                <tr>\n",
       "                        <th id=\"T_39b141d0_0c06_11ea_8d3d_2be53f1a5b4flevel0_row0\" class=\"row_heading level0 row0\" >3</th>\n",
       "                        <td id=\"T_39b141d0_0c06_11ea_8d3d_2be53f1a5b4frow0_col0\" class=\"data row0 col0\" > #001e7</td>\n",
       "                        <td id=\"T_39b141d0_0c06_11ea_8d3d_2be53f1a5b4frow0_col1\" class=\"data row0 col1\" >51</td>\n",
       "            </tr>\n",
       "            <tr>\n",
       "                        <th id=\"T_39b141d0_0c06_11ea_8d3d_2be53f1a5b4flevel0_row1\" class=\"row_heading level0 row1\" >17</th>\n",
       "                        <td id=\"T_39b141d0_0c06_11ea_8d3d_2be53f1a5b4frow1_col0\" class=\"data row1 col0\" > #e0e6e</td>\n",
       "                        <td id=\"T_39b141d0_0c06_11ea_8d3d_2be53f1a5b4frow1_col1\" class=\"data row1 col1\" >40</td>\n",
       "            </tr>\n",
       "            <tr>\n",
       "                        <th id=\"T_39b141d0_0c06_11ea_8d3d_2be53f1a5b4flevel0_row2\" class=\"row_heading level0 row2\" >19</th>\n",
       "                        <td id=\"T_39b141d0_0c06_11ea_8d3d_2be53f1a5b4frow2_col0\" class=\"data row2 col0\" > #f4f6f</td>\n",
       "                        <td id=\"T_39b141d0_0c06_11ea_8d3d_2be53f1a5b4frow2_col1\" class=\"data row2 col1\" >16</td>\n",
       "            </tr>\n",
       "    </tbody></table>"
      ],
      "text/plain": [
       "<pandas.io.formats.style.Styler at 0x7f49357307f0>"
      ]
     },
     "execution_count": 89,
     "metadata": {},
     "output_type": "execute_result"
    }
   ],
   "source": [
    "getBackgroundColors('https://www.bestbuy.ca',3)"
   ]
  },
  {
   "cell_type": "code",
   "execution_count": null,
   "metadata": {},
   "outputs": [],
   "source": [
    "Hm.. Why does bestbuy use only 5 characters for their hex codes? Is that a different standard?"
   ]
  },
  {
   "cell_type": "code",
   "execution_count": 95,
   "metadata": {},
   "outputs": [
    {
     "data": {
      "text/html": [
       "<style  type=\"text/css\" >\n",
       "    #T_ac027aaa_0c07_11ea_8d3d_2be53f1a5b4frow0_col0 {\n",
       "            background-color:   #f2cf5;\n",
       "        }    #T_ac027aaa_0c07_11ea_8d3d_2be53f1a5b4frow1_col0 {\n",
       "            background-color:   #E6ECf;\n",
       "        }    #T_ac027aaa_0c07_11ea_8d3d_2be53f1a5b4frow2_col0 {\n",
       "            background-color:  #f5f5f5;\n",
       "        }    #T_ac027aaa_0c07_11ea_8d3d_2be53f1a5b4frow3_col0 {\n",
       "            background-color:   #F7F8F;\n",
       "        }    #T_ac027aaa_0c07_11ea_8d3d_2be53f1a5b4frow4_col0 {\n",
       "            background-color:  #337ab7;\n",
       "        }</style><table id=\"T_ac027aaa_0c07_11ea_8d3d_2be53f1a5b4f\" ><thead>    <tr>        <th class=\"blank level0\" ></th>        <th class=\"col_heading level0 col0\" >Colour</th>        <th class=\"col_heading level0 col1\" >Count</th>    </tr></thead><tbody>\n",
       "                <tr>\n",
       "                        <th id=\"T_ac027aaa_0c07_11ea_8d3d_2be53f1a5b4flevel0_row0\" class=\"row_heading level0 row0\" >70</th>\n",
       "                        <td id=\"T_ac027aaa_0c07_11ea_8d3d_2be53f1a5b4frow0_col0\" class=\"data row0 col0\" > #f2cf5</td>\n",
       "                        <td id=\"T_ac027aaa_0c07_11ea_8d3d_2be53f1a5b4frow0_col1\" class=\"data row0 col1\" >16</td>\n",
       "            </tr>\n",
       "            <tr>\n",
       "                        <th id=\"T_ac027aaa_0c07_11ea_8d3d_2be53f1a5b4flevel0_row1\" class=\"row_heading level0 row1\" >46</th>\n",
       "                        <td id=\"T_ac027aaa_0c07_11ea_8d3d_2be53f1a5b4frow1_col0\" class=\"data row1 col0\" > #E6ECf</td>\n",
       "                        <td id=\"T_ac027aaa_0c07_11ea_8d3d_2be53f1a5b4frow1_col1\" class=\"data row1 col1\" >8</td>\n",
       "            </tr>\n",
       "            <tr>\n",
       "                        <th id=\"T_ac027aaa_0c07_11ea_8d3d_2be53f1a5b4flevel0_row2\" class=\"row_heading level0 row2\" >160</th>\n",
       "                        <td id=\"T_ac027aaa_0c07_11ea_8d3d_2be53f1a5b4frow2_col0\" class=\"data row2 col0\" >#f5f5f5</td>\n",
       "                        <td id=\"T_ac027aaa_0c07_11ea_8d3d_2be53f1a5b4frow2_col1\" class=\"data row2 col1\" >7</td>\n",
       "            </tr>\n",
       "            <tr>\n",
       "                        <th id=\"T_ac027aaa_0c07_11ea_8d3d_2be53f1a5b4flevel0_row3\" class=\"row_heading level0 row3\" >49</th>\n",
       "                        <td id=\"T_ac027aaa_0c07_11ea_8d3d_2be53f1a5b4frow3_col0\" class=\"data row3 col0\" > #F7F8F</td>\n",
       "                        <td id=\"T_ac027aaa_0c07_11ea_8d3d_2be53f1a5b4frow3_col1\" class=\"data row3 col1\" >6</td>\n",
       "            </tr>\n",
       "            <tr>\n",
       "                        <th id=\"T_ac027aaa_0c07_11ea_8d3d_2be53f1a5b4flevel0_row4\" class=\"row_heading level0 row4\" >102</th>\n",
       "                        <td id=\"T_ac027aaa_0c07_11ea_8d3d_2be53f1a5b4frow4_col0\" class=\"data row4 col0\" >#337ab7</td>\n",
       "                        <td id=\"T_ac027aaa_0c07_11ea_8d3d_2be53f1a5b4frow4_col1\" class=\"data row4 col1\" >6</td>\n",
       "            </tr>\n",
       "    </tbody></table>"
      ],
      "text/plain": [
       "<pandas.io.formats.style.Styler at 0x7f4935730160>"
      ]
     },
     "execution_count": 95,
     "metadata": {},
     "output_type": "execute_result"
    }
   ],
   "source": [
    "getBackgroundColors('https://www.worksafebc.com',5)"
   ]
  },
  {
   "cell_type": "raw",
   "metadata": {},
   "source": [
    "Another example of 5-character hex codes."
   ]
  },
  {
   "cell_type": "code",
   "execution_count": 98,
   "metadata": {},
   "outputs": [
    {
     "data": {
      "text/html": [
       "<div>\n",
       "<style scoped>\n",
       "    .dataframe tbody tr th:only-of-type {\n",
       "        vertical-align: middle;\n",
       "    }\n",
       "\n",
       "    .dataframe tbody tr th {\n",
       "        vertical-align: top;\n",
       "    }\n",
       "\n",
       "    .dataframe thead th {\n",
       "        text-align: right;\n",
       "    }\n",
       "</style>\n",
       "<table border=\"1\" class=\"dataframe\">\n",
       "  <thead>\n",
       "    <tr style=\"text-align: right;\">\n",
       "      <th></th>\n",
       "      <th>Font</th>\n",
       "      <th>Count</th>\n",
       "    </tr>\n",
       "  </thead>\n",
       "  <tbody>\n",
       "    <tr>\n",
       "      <th>25</th>\n",
       "      <td>font-family:'DINWeb'</td>\n",
       "      <td>5</td>\n",
       "    </tr>\n",
       "    <tr>\n",
       "      <th>16</th>\n",
       "      <td>font-family:\"DINWebLight\",sans-serif</td>\n",
       "      <td>4</td>\n",
       "    </tr>\n",
       "    <tr>\n",
       "      <th>41</th>\n",
       "      <td>font-family:DINWeb,sans-serif</td>\n",
       "      <td>3</td>\n",
       "    </tr>\n",
       "  </tbody>\n",
       "</table>\n",
       "</div>"
      ],
      "text/plain": [
       "                                    Font Count\n",
       "25                  font-family:'DINWeb'     5\n",
       "16  font-family:\"DINWebLight\",sans-serif     4\n",
       "41         font-family:DINWeb,sans-serif     3"
      ]
     },
     "execution_count": 98,
     "metadata": {},
     "output_type": "execute_result"
    }
   ],
   "source": [
    "getFonts('https://www.sfu.ca/')"
   ]
  },
  {
   "cell_type": "code",
   "execution_count": 99,
   "metadata": {},
   "outputs": [
    {
     "data": {
      "text/html": [
       "<div>\n",
       "<style scoped>\n",
       "    .dataframe tbody tr th:only-of-type {\n",
       "        vertical-align: middle;\n",
       "    }\n",
       "\n",
       "    .dataframe tbody tr th {\n",
       "        vertical-align: top;\n",
       "    }\n",
       "\n",
       "    .dataframe thead th {\n",
       "        text-align: right;\n",
       "    }\n",
       "</style>\n",
       "<table border=\"1\" class=\"dataframe\">\n",
       "  <thead>\n",
       "    <tr style=\"text-align: right;\">\n",
       "      <th></th>\n",
       "      <th>Font</th>\n",
       "      <th>Count</th>\n",
       "    </tr>\n",
       "  </thead>\n",
       "  <tbody>\n",
       "    <tr>\n",
       "      <th>3</th>\n",
       "      <td>font-family:Whitney SSm A,Whitney SSm B,Arial,...</td>\n",
       "      <td>3</td>\n",
       "    </tr>\n",
       "    <tr>\n",
       "      <th>4</th>\n",
       "      <td>font-family:Whitney SSm A,Whitney SSm B,Arial,...</td>\n",
       "      <td>2</td>\n",
       "    </tr>\n",
       "    <tr>\n",
       "      <th>5</th>\n",
       "      <td>font-family:fontawesome</td>\n",
       "      <td>2</td>\n",
       "    </tr>\n",
       "  </tbody>\n",
       "</table>\n",
       "</div>"
      ],
      "text/plain": [
       "                                                Font Count\n",
       "3  font-family:Whitney SSm A,Whitney SSm B,Arial,...     3\n",
       "4  font-family:Whitney SSm A,Whitney SSm B,Arial,...     2\n",
       "5                            font-family:fontawesome     2"
      ]
     },
     "execution_count": 99,
     "metadata": {},
     "output_type": "execute_result"
    }
   ],
   "source": [
    "getFonts('http://www.ubc.ca')"
   ]
  },
  {
   "cell_type": "code",
   "execution_count": 10,
   "metadata": {
    "collapsed": true,
    "jupyter": {
     "outputs_hidden": true
    }
   },
   "outputs": [
    {
     "name": "stdout",
     "output_type": "stream",
     "text": [
      "\n",
      "\n",
      "https://uwaterloo.ca/about/\n",
      "\n",
      "b'[if lt IE 7]><div id=\"ie6message\">Your version of Internet Explorer web browser is insecure, not supported by Microsoft, and does not work with this web site. Please use one of these links to upgrade to a modern web browser: <a href=\"http://www.mozilla.org/firefox/\">Firefox</a>, <a href=\"http://www.google.com/chrome\">Google Chrome</a>, <a href=\"http://windows.microsoft.com/en-US/internet-explorer/products/ie/home\">Internet Explorer</a>.</div><![endif]'b' 'b'Skip to main'b'Skip to footer'b'University of Waterloo'b'Admissions'b'About Waterloo'b'Faculties & academics'b'Offices & services'b'Support Waterloo'b'Search'b'Menu'b'This site'b'About Waterloo home'b'Who we are'b'Facts'b'History'b'Leadership and governance'b'Rankings'b'Our differentiators'b'Learning'b'Entrepreneurship'b'Co-op and experiential learning'b'Research'b'Reports'b'Accountability'b'Contact us'b'UWaterloo'b'Admissions'b'About Waterloo'b'Faculties & academics'b'Offices & services'b'Support Waterloo'b'\\n          About Waterloo                  'b' 'b' 'b' /uw-headeranner__alt 'b'About Waterloo home'b'Who we are'b'Our differentiators'b'Reports'b'Accountability'b'Contact us'b'About Waterloo'b' when logged in 'b'Acknowledgment of traditional territory'b'\\n\\tWe acknowledge that the University of Waterloo is located on the traditional territory of the Neutral, Anishinaabe and Haudenosaunee people.\\xc2\\xa0'b'Beyond is where we begin'b'Waterloo goes\\xc2\\xa0beyond the classroom, to a place where experience is the teacher. Beyond problems to solutions that address social, technical and economic needs. Beyond the laboratory, to the research that propels industries, organizations and society.'b\"Waterloo is at the forefront of innovation and is home to transformational research and inspired learning. Located in the heart of Canada's technology hub, we are growing a network of global partnerships that will shape the future by working beyond disciplines and building bridges with industry, institutions and communities.\"b\"Our incredible people and partners take us beyond the lives we're living today, to find solutions to the global challenges that lie ahead. Creating change that goes beyond the status quo and is felt around the world.\"b'Waterloo goes beyond\\xe2\\x80\\x94to challenge, connect and propel our world.'b'Watch video on YouTube'b' 'b' 'b' /node-inner 'b' 'b' /node'b' 'b'/main-content'b\"Download the President's Report (PDF, 1MB) \"b' 'b'Read the Global Impact Report'b' 'b'GET MORE INFORMATION'b'CONTACT US'b' 'b' 'b'/section inner'b'/site main'b'TOP'b'Share'b'About waterloo'b' 'b'Ask a question or send website feedback'b'\\n\\t\\xc2\\xa0'b'\\xc2\\xa0'b'\\n\\t\\xc2\\xa0'b' 'b'University of Waterloo'b'University of Waterloo'b'43.471468'b'-80.544205'b'200 University Avenue West'b'Waterloo'b',\\n          'b'ON'b',\\n          'b'Canada'b'\\xc2\\xa0\\n          'b'N2L 3G1'b'+1 519 888 4567'b'Contact Waterloo'b'Maps & Directions'b'WatSAFE'b'Accessibility'b'Privacy'b'Copyright'b'Media'b'Careers'b'Feedback'b'@uwaterloo social directory'b'Log in'b'/site'\n",
      "\n",
      "\n",
      "https://uwaterloo.ca/about\n",
      "\n",
      "b'[if lt IE 7]><div id=\"ie6message\">Your version of Internet Explorer web browser is insecure, not supported by Microsoft, and does not work with this web site. Please use one of these links to upgrade to a modern web browser: <a href=\"http://www.mozilla.org/firefox/\">Firefox</a>, <a href=\"http://www.google.com/chrome\">Google Chrome</a>, <a href=\"http://windows.microsoft.com/en-US/internet-explorer/products/ie/home\">Internet Explorer</a>.</div><![endif]'b' 'b'Skip to main'b'Skip to footer'b'University of Waterloo'b'Admissions'b'About Waterloo'b'Faculties & academics'b'Offices & services'b'Support Waterloo'b'Search'b'Menu'b'This site'b'About Waterloo home'b'Who we are'b'Facts'b'History'b'Leadership and governance'b'Rankings'b'Our differentiators'b'Learning'b'Entrepreneurship'b'Co-op and experiential learning'b'Research'b'Reports'b'Accountability'b'Contact us'b'UWaterloo'b'Admissions'b'About Waterloo'b'Faculties & academics'b'Offices & services'b'Support Waterloo'b'\\n          About Waterloo                  'b' 'b' 'b' /uw-headeranner__alt 'b'About Waterloo home'b'Who we are'b'Our differentiators'b'Reports'b'Accountability'b'Contact us'b'About Waterloo'b' when logged in 'b'Acknowledgment of traditional territory'b'\\n\\tWe acknowledge that the University of Waterloo is located on the traditional territory of the Neutral, Anishinaabe and Haudenosaunee people.\\xc2\\xa0'b'Beyond is where we begin'b'Waterloo goes\\xc2\\xa0beyond the classroom, to a place where experience is the teacher. Beyond problems to solutions that address social, technical and economic needs. Beyond the laboratory, to the research that propels industries, organizations and society.'b\"Waterloo is at the forefront of innovation and is home to transformational research and inspired learning. Located in the heart of Canada's technology hub, we are growing a network of global partnerships that will shape the future by working beyond disciplines and building bridges with industry, institutions and communities.\"b\"Our incredible people and partners take us beyond the lives we're living today, to find solutions to the global challenges that lie ahead. Creating change that goes beyond the status quo and is felt around the world.\"b'Waterloo goes beyond\\xe2\\x80\\x94to challenge, connect and propel our world.'b'Watch video on YouTube'b' 'b' 'b' /node-inner 'b' 'b' /node'b' 'b'/main-content'b\"Download the President's Report (PDF, 1MB) \"b' 'b'Read the Global Impact Report'b' 'b'GET MORE INFORMATION'b'CONTACT US'b' 'b' 'b'/section inner'b'/site main'b'TOP'b'Share'b'About waterloo'b' 'b'Ask a question or send website feedback'b'\\n\\t\\xc2\\xa0'b'\\xc2\\xa0'b'\\n\\t\\xc2\\xa0'b' 'b'University of Waterloo'b'University of Waterloo'b'43.471468'b'-80.544205'b'200 University Avenue West'b'Waterloo'b',\\n          'b'ON'b',\\n          'b'Canada'b'\\xc2\\xa0\\n          'b'N2L 3G1'b'+1 519 888 4567'b'Contact Waterloo'b'Maps & Directions'b'WatSAFE'b'Accessibility'b'Privacy'b'Copyright'b'Media'b'Careers'b'Feedback'b'@uwaterloo social directory'b'Log in'b'/site'\n",
      "\n",
      "\n",
      "https://uwaterloo.ca/about/how-find-us/contact-waterloo/contact-form\n",
      "\n",
      "b'[if lt IE 7]><div id=\"ie6message\">Your version of Internet Explorer web browser is insecure, not supported by Microsoft, and does not work with this web site. Please use one of these links to upgrade to a modern web browser: <a href=\"http://www.mozilla.org/firefox/\">Firefox</a>, <a href=\"http://www.google.com/chrome\">Google Chrome</a>, <a href=\"http://windows.microsoft.com/en-US/internet-explorer/products/ie/home\">Internet Explorer</a>.</div><![endif]'b' 'b'Skip to main'b'Skip to footer'b'University of Waterloo'b'Admissions'b'About Waterloo'b'Faculties & academics'b'Offices & services'b'Support Waterloo'b'Search'b'Menu'b'This site'b'About Waterloo home'b'Who we are'b'Facts'b'History'b'Leadership and governance'b'Rankings'b'Our differentiators'b'Learning'b'Entrepreneurship'b'Co-op and experiential learning'b'Research'b'Reports'b'Accountability'b'Contact us'b'UWaterloo'b'Admissions'b'About Waterloo'b'Faculties & academics'b'Offices & services'b'Support Waterloo'b'\\n          About Waterloo                  'b' /uw-headeranner__alt 'b'About Waterloo home'b'Who we are'b'Our differentiators'b'Reports'b'Accountability'b'Contact us'b'About Waterloo'b' 'b'Contact form'b' when logged in 'b\"Can't find something, or want to let us know how we're doing? \\xc2\\xa0We'll make sure your inquiry gets to the right place.\"b'Your feedback is appreciated.'b'Information and privacy:'b' questions regarding the collection of information on this form can be directed to the 'b'form administrator'b'.'b'Your name 'b'Your email 'b'* 'b'(required)'b' 'b'Please provide an email if you want a response.'b'Your question or comment 'b'* 'b'(required)'b' 'b'CAPTCHA'b'This question is for testing whether or not you are a human visitor and to prevent automated spam submissions.'b' 'b' 'b' /node-inner 'b' 'b' /node'b' 'b'/main-content'b'LEARN ABOUT WATERLOO'b'PROGRAMS AND ADMISSION'b'REPORT AN ISSUE'b'TECHNICAL SUPPORT'b' 'b\"Download the President's Report (PDF, 1MB) \"b' 'b'Read the Global Impact Report'b' 'b'GET MORE INFORMATION'b'CONTACT US'b' 'b' 'b'/section inner'b'/site main'b'TOP'b'Share'b'About waterloo'b' 'b'Ask a question or send website feedback'b'\\n\\t\\xc2\\xa0'b'\\xc2\\xa0'b'\\n\\t\\xc2\\xa0'b' 'b'University of Waterloo'b'University of Waterloo'b'43.471468'b'-80.544205'b'200 University Avenue West'b'Waterloo'b',\\n          'b'ON'b',\\n          'b'Canada'b'\\xc2\\xa0\\n          'b'N2L 3G1'b'+1 519 888 4567'b'Contact Waterloo'b'Maps & Directions'b'WatSAFE'b'Accessibility'b'Privacy'b'Copyright'b'Media'b'Careers'b'Feedback'b'@uwaterloo social directory'b'Log in'b'/site'\n",
      "\n",
      "\n",
      "https://www.uwaterloo.ca///uwaterloo.ca/about/how-find-us/contact-waterloo\n",
      "\n"
     ]
    },
    {
     "ename": "HTTPError",
     "evalue": "HTTP Error 404: Not Found",
     "output_type": "error",
     "traceback": [
      "\u001b[0;31m---------------------------------------------------------------------------\u001b[0m",
      "\u001b[0;31mHTTPError\u001b[0m                                 Traceback (most recent call last)",
      "\u001b[0;32m<ipython-input-10-4e5746fa433f>\u001b[0m in \u001b[0;36m<module>\u001b[0;34m\u001b[0m\n\u001b[1;32m      5\u001b[0m     \u001b[0mprint\u001b[0m\u001b[0;34m(\u001b[0m\u001b[0;34m''\u001b[0m\u001b[0;34m)\u001b[0m\u001b[0;34m\u001b[0m\u001b[0;34m\u001b[0m\u001b[0m\n\u001b[1;32m      6\u001b[0m \u001b[0;34m\u001b[0m\u001b[0m\n\u001b[0;32m----> 7\u001b[0;31m     \u001b[0mprint\u001b[0m\u001b[0;34m(\u001b[0m\u001b[0mwebsiteText\u001b[0m\u001b[0;34m(\u001b[0m\u001b[0ma\u001b[0m\u001b[0;34m)\u001b[0m\u001b[0;34m)\u001b[0m\u001b[0;34m\u001b[0m\u001b[0;34m\u001b[0m\u001b[0m\n\u001b[0m",
      "\u001b[0;32m<ipython-input-4-7e392e60d3c5>\u001b[0m in \u001b[0;36mwebsiteText\u001b[0;34m(url)\u001b[0m\n\u001b[1;32m      1\u001b[0m \u001b[0;32mdef\u001b[0m \u001b[0mwebsiteText\u001b[0m\u001b[0;34m(\u001b[0m\u001b[0murl\u001b[0m\u001b[0;34m)\u001b[0m\u001b[0;34m:\u001b[0m\u001b[0;34m\u001b[0m\u001b[0;34m\u001b[0m\u001b[0m\n\u001b[0;32m----> 2\u001b[0;31m     \u001b[0mhtmltext\u001b[0m \u001b[0;34m=\u001b[0m \u001b[0murllib\u001b[0m\u001b[0;34m.\u001b[0m\u001b[0mrequest\u001b[0m\u001b[0;34m.\u001b[0m\u001b[0murlopen\u001b[0m\u001b[0;34m(\u001b[0m\u001b[0murl\u001b[0m\u001b[0;34m)\u001b[0m\u001b[0;34m.\u001b[0m\u001b[0mread\u001b[0m\u001b[0;34m(\u001b[0m\u001b[0;34m)\u001b[0m\u001b[0;34m\u001b[0m\u001b[0;34m\u001b[0m\u001b[0m\n\u001b[0m\u001b[1;32m      3\u001b[0m     \u001b[0msoup\u001b[0m \u001b[0;34m=\u001b[0m \u001b[0mBeautifulSoup\u001b[0m\u001b[0;34m(\u001b[0m\u001b[0mhtmltext\u001b[0m\u001b[0;34m)\u001b[0m\u001b[0;34m\u001b[0m\u001b[0;34m\u001b[0m\u001b[0m\n\u001b[1;32m      4\u001b[0m     \u001b[0mtexts\u001b[0m \u001b[0;34m=\u001b[0m \u001b[0msoup\u001b[0m\u001b[0;34m.\u001b[0m\u001b[0mfindAll\u001b[0m\u001b[0;34m(\u001b[0m\u001b[0mtext\u001b[0m\u001b[0;34m=\u001b[0m\u001b[0;32mTrue\u001b[0m\u001b[0;34m)\u001b[0m\u001b[0;34m\u001b[0m\u001b[0;34m\u001b[0m\u001b[0m\n\u001b[1;32m      5\u001b[0m     \u001b[0mvisible_texts\u001b[0m \u001b[0;34m=\u001b[0m \u001b[0mfilter\u001b[0m\u001b[0;34m(\u001b[0m\u001b[0mvisible\u001b[0m\u001b[0;34m,\u001b[0m \u001b[0mtexts\u001b[0m\u001b[0;34m)\u001b[0m\u001b[0;34m\u001b[0m\u001b[0;34m\u001b[0m\u001b[0m\n",
      "\u001b[0;32m~/anaconda3/lib/python3.7/urllib/request.py\u001b[0m in \u001b[0;36murlopen\u001b[0;34m(url, data, timeout, cafile, capath, cadefault, context)\u001b[0m\n\u001b[1;32m    220\u001b[0m     \u001b[0;32melse\u001b[0m\u001b[0;34m:\u001b[0m\u001b[0;34m\u001b[0m\u001b[0;34m\u001b[0m\u001b[0m\n\u001b[1;32m    221\u001b[0m         \u001b[0mopener\u001b[0m \u001b[0;34m=\u001b[0m \u001b[0m_opener\u001b[0m\u001b[0;34m\u001b[0m\u001b[0;34m\u001b[0m\u001b[0m\n\u001b[0;32m--> 222\u001b[0;31m     \u001b[0;32mreturn\u001b[0m \u001b[0mopener\u001b[0m\u001b[0;34m.\u001b[0m\u001b[0mopen\u001b[0m\u001b[0;34m(\u001b[0m\u001b[0murl\u001b[0m\u001b[0;34m,\u001b[0m \u001b[0mdata\u001b[0m\u001b[0;34m,\u001b[0m \u001b[0mtimeout\u001b[0m\u001b[0;34m)\u001b[0m\u001b[0;34m\u001b[0m\u001b[0;34m\u001b[0m\u001b[0m\n\u001b[0m\u001b[1;32m    223\u001b[0m \u001b[0;34m\u001b[0m\u001b[0m\n\u001b[1;32m    224\u001b[0m \u001b[0;32mdef\u001b[0m \u001b[0minstall_opener\u001b[0m\u001b[0;34m(\u001b[0m\u001b[0mopener\u001b[0m\u001b[0;34m)\u001b[0m\u001b[0;34m:\u001b[0m\u001b[0;34m\u001b[0m\u001b[0;34m\u001b[0m\u001b[0m\n",
      "\u001b[0;32m~/anaconda3/lib/python3.7/urllib/request.py\u001b[0m in \u001b[0;36mopen\u001b[0;34m(self, fullurl, data, timeout)\u001b[0m\n\u001b[1;32m    529\u001b[0m         \u001b[0;32mfor\u001b[0m \u001b[0mprocessor\u001b[0m \u001b[0;32min\u001b[0m \u001b[0mself\u001b[0m\u001b[0;34m.\u001b[0m\u001b[0mprocess_response\u001b[0m\u001b[0;34m.\u001b[0m\u001b[0mget\u001b[0m\u001b[0;34m(\u001b[0m\u001b[0mprotocol\u001b[0m\u001b[0;34m,\u001b[0m \u001b[0;34m[\u001b[0m\u001b[0;34m]\u001b[0m\u001b[0;34m)\u001b[0m\u001b[0;34m:\u001b[0m\u001b[0;34m\u001b[0m\u001b[0;34m\u001b[0m\u001b[0m\n\u001b[1;32m    530\u001b[0m             \u001b[0mmeth\u001b[0m \u001b[0;34m=\u001b[0m \u001b[0mgetattr\u001b[0m\u001b[0;34m(\u001b[0m\u001b[0mprocessor\u001b[0m\u001b[0;34m,\u001b[0m \u001b[0mmeth_name\u001b[0m\u001b[0;34m)\u001b[0m\u001b[0;34m\u001b[0m\u001b[0;34m\u001b[0m\u001b[0m\n\u001b[0;32m--> 531\u001b[0;31m             \u001b[0mresponse\u001b[0m \u001b[0;34m=\u001b[0m \u001b[0mmeth\u001b[0m\u001b[0;34m(\u001b[0m\u001b[0mreq\u001b[0m\u001b[0;34m,\u001b[0m \u001b[0mresponse\u001b[0m\u001b[0;34m)\u001b[0m\u001b[0;34m\u001b[0m\u001b[0;34m\u001b[0m\u001b[0m\n\u001b[0m\u001b[1;32m    532\u001b[0m \u001b[0;34m\u001b[0m\u001b[0m\n\u001b[1;32m    533\u001b[0m         \u001b[0;32mreturn\u001b[0m \u001b[0mresponse\u001b[0m\u001b[0;34m\u001b[0m\u001b[0;34m\u001b[0m\u001b[0m\n",
      "\u001b[0;32m~/anaconda3/lib/python3.7/urllib/request.py\u001b[0m in \u001b[0;36mhttp_response\u001b[0;34m(self, request, response)\u001b[0m\n\u001b[1;32m    639\u001b[0m         \u001b[0;32mif\u001b[0m \u001b[0;32mnot\u001b[0m \u001b[0;34m(\u001b[0m\u001b[0;36m200\u001b[0m \u001b[0;34m<=\u001b[0m \u001b[0mcode\u001b[0m \u001b[0;34m<\u001b[0m \u001b[0;36m300\u001b[0m\u001b[0;34m)\u001b[0m\u001b[0;34m:\u001b[0m\u001b[0;34m\u001b[0m\u001b[0;34m\u001b[0m\u001b[0m\n\u001b[1;32m    640\u001b[0m             response = self.parent.error(\n\u001b[0;32m--> 641\u001b[0;31m                 'http', request, response, code, msg, hdrs)\n\u001b[0m\u001b[1;32m    642\u001b[0m \u001b[0;34m\u001b[0m\u001b[0m\n\u001b[1;32m    643\u001b[0m         \u001b[0;32mreturn\u001b[0m \u001b[0mresponse\u001b[0m\u001b[0;34m\u001b[0m\u001b[0;34m\u001b[0m\u001b[0m\n",
      "\u001b[0;32m~/anaconda3/lib/python3.7/urllib/request.py\u001b[0m in \u001b[0;36merror\u001b[0;34m(self, proto, *args)\u001b[0m\n\u001b[1;32m    561\u001b[0m             \u001b[0mhttp_err\u001b[0m \u001b[0;34m=\u001b[0m \u001b[0;36m0\u001b[0m\u001b[0;34m\u001b[0m\u001b[0;34m\u001b[0m\u001b[0m\n\u001b[1;32m    562\u001b[0m         \u001b[0margs\u001b[0m \u001b[0;34m=\u001b[0m \u001b[0;34m(\u001b[0m\u001b[0mdict\u001b[0m\u001b[0;34m,\u001b[0m \u001b[0mproto\u001b[0m\u001b[0;34m,\u001b[0m \u001b[0mmeth_name\u001b[0m\u001b[0;34m)\u001b[0m \u001b[0;34m+\u001b[0m \u001b[0margs\u001b[0m\u001b[0;34m\u001b[0m\u001b[0;34m\u001b[0m\u001b[0m\n\u001b[0;32m--> 563\u001b[0;31m         \u001b[0mresult\u001b[0m \u001b[0;34m=\u001b[0m \u001b[0mself\u001b[0m\u001b[0;34m.\u001b[0m\u001b[0m_call_chain\u001b[0m\u001b[0;34m(\u001b[0m\u001b[0;34m*\u001b[0m\u001b[0margs\u001b[0m\u001b[0;34m)\u001b[0m\u001b[0;34m\u001b[0m\u001b[0;34m\u001b[0m\u001b[0m\n\u001b[0m\u001b[1;32m    564\u001b[0m         \u001b[0;32mif\u001b[0m \u001b[0mresult\u001b[0m\u001b[0;34m:\u001b[0m\u001b[0;34m\u001b[0m\u001b[0;34m\u001b[0m\u001b[0m\n\u001b[1;32m    565\u001b[0m             \u001b[0;32mreturn\u001b[0m \u001b[0mresult\u001b[0m\u001b[0;34m\u001b[0m\u001b[0;34m\u001b[0m\u001b[0m\n",
      "\u001b[0;32m~/anaconda3/lib/python3.7/urllib/request.py\u001b[0m in \u001b[0;36m_call_chain\u001b[0;34m(self, chain, kind, meth_name, *args)\u001b[0m\n\u001b[1;32m    501\u001b[0m         \u001b[0;32mfor\u001b[0m \u001b[0mhandler\u001b[0m \u001b[0;32min\u001b[0m \u001b[0mhandlers\u001b[0m\u001b[0;34m:\u001b[0m\u001b[0;34m\u001b[0m\u001b[0;34m\u001b[0m\u001b[0m\n\u001b[1;32m    502\u001b[0m             \u001b[0mfunc\u001b[0m \u001b[0;34m=\u001b[0m \u001b[0mgetattr\u001b[0m\u001b[0;34m(\u001b[0m\u001b[0mhandler\u001b[0m\u001b[0;34m,\u001b[0m \u001b[0mmeth_name\u001b[0m\u001b[0;34m)\u001b[0m\u001b[0;34m\u001b[0m\u001b[0;34m\u001b[0m\u001b[0m\n\u001b[0;32m--> 503\u001b[0;31m             \u001b[0mresult\u001b[0m \u001b[0;34m=\u001b[0m \u001b[0mfunc\u001b[0m\u001b[0;34m(\u001b[0m\u001b[0;34m*\u001b[0m\u001b[0margs\u001b[0m\u001b[0;34m)\u001b[0m\u001b[0;34m\u001b[0m\u001b[0;34m\u001b[0m\u001b[0m\n\u001b[0m\u001b[1;32m    504\u001b[0m             \u001b[0;32mif\u001b[0m \u001b[0mresult\u001b[0m \u001b[0;32mis\u001b[0m \u001b[0;32mnot\u001b[0m \u001b[0;32mNone\u001b[0m\u001b[0;34m:\u001b[0m\u001b[0;34m\u001b[0m\u001b[0;34m\u001b[0m\u001b[0m\n\u001b[1;32m    505\u001b[0m                 \u001b[0;32mreturn\u001b[0m \u001b[0mresult\u001b[0m\u001b[0;34m\u001b[0m\u001b[0;34m\u001b[0m\u001b[0m\n",
      "\u001b[0;32m~/anaconda3/lib/python3.7/urllib/request.py\u001b[0m in \u001b[0;36mhttp_error_302\u001b[0;34m(self, req, fp, code, msg, headers)\u001b[0m\n\u001b[1;32m    753\u001b[0m         \u001b[0mfp\u001b[0m\u001b[0;34m.\u001b[0m\u001b[0mclose\u001b[0m\u001b[0;34m(\u001b[0m\u001b[0;34m)\u001b[0m\u001b[0;34m\u001b[0m\u001b[0;34m\u001b[0m\u001b[0m\n\u001b[1;32m    754\u001b[0m \u001b[0;34m\u001b[0m\u001b[0m\n\u001b[0;32m--> 755\u001b[0;31m         \u001b[0;32mreturn\u001b[0m \u001b[0mself\u001b[0m\u001b[0;34m.\u001b[0m\u001b[0mparent\u001b[0m\u001b[0;34m.\u001b[0m\u001b[0mopen\u001b[0m\u001b[0;34m(\u001b[0m\u001b[0mnew\u001b[0m\u001b[0;34m,\u001b[0m \u001b[0mtimeout\u001b[0m\u001b[0;34m=\u001b[0m\u001b[0mreq\u001b[0m\u001b[0;34m.\u001b[0m\u001b[0mtimeout\u001b[0m\u001b[0;34m)\u001b[0m\u001b[0;34m\u001b[0m\u001b[0;34m\u001b[0m\u001b[0m\n\u001b[0m\u001b[1;32m    756\u001b[0m \u001b[0;34m\u001b[0m\u001b[0m\n\u001b[1;32m    757\u001b[0m     \u001b[0mhttp_error_301\u001b[0m \u001b[0;34m=\u001b[0m \u001b[0mhttp_error_303\u001b[0m \u001b[0;34m=\u001b[0m \u001b[0mhttp_error_307\u001b[0m \u001b[0;34m=\u001b[0m \u001b[0mhttp_error_302\u001b[0m\u001b[0;34m\u001b[0m\u001b[0;34m\u001b[0m\u001b[0m\n",
      "\u001b[0;32m~/anaconda3/lib/python3.7/urllib/request.py\u001b[0m in \u001b[0;36mopen\u001b[0;34m(self, fullurl, data, timeout)\u001b[0m\n\u001b[1;32m    529\u001b[0m         \u001b[0;32mfor\u001b[0m \u001b[0mprocessor\u001b[0m \u001b[0;32min\u001b[0m \u001b[0mself\u001b[0m\u001b[0;34m.\u001b[0m\u001b[0mprocess_response\u001b[0m\u001b[0;34m.\u001b[0m\u001b[0mget\u001b[0m\u001b[0;34m(\u001b[0m\u001b[0mprotocol\u001b[0m\u001b[0;34m,\u001b[0m \u001b[0;34m[\u001b[0m\u001b[0;34m]\u001b[0m\u001b[0;34m)\u001b[0m\u001b[0;34m:\u001b[0m\u001b[0;34m\u001b[0m\u001b[0;34m\u001b[0m\u001b[0m\n\u001b[1;32m    530\u001b[0m             \u001b[0mmeth\u001b[0m \u001b[0;34m=\u001b[0m \u001b[0mgetattr\u001b[0m\u001b[0;34m(\u001b[0m\u001b[0mprocessor\u001b[0m\u001b[0;34m,\u001b[0m \u001b[0mmeth_name\u001b[0m\u001b[0;34m)\u001b[0m\u001b[0;34m\u001b[0m\u001b[0;34m\u001b[0m\u001b[0m\n\u001b[0;32m--> 531\u001b[0;31m             \u001b[0mresponse\u001b[0m \u001b[0;34m=\u001b[0m \u001b[0mmeth\u001b[0m\u001b[0;34m(\u001b[0m\u001b[0mreq\u001b[0m\u001b[0;34m,\u001b[0m \u001b[0mresponse\u001b[0m\u001b[0;34m)\u001b[0m\u001b[0;34m\u001b[0m\u001b[0;34m\u001b[0m\u001b[0m\n\u001b[0m\u001b[1;32m    532\u001b[0m \u001b[0;34m\u001b[0m\u001b[0m\n\u001b[1;32m    533\u001b[0m         \u001b[0;32mreturn\u001b[0m \u001b[0mresponse\u001b[0m\u001b[0;34m\u001b[0m\u001b[0;34m\u001b[0m\u001b[0m\n",
      "\u001b[0;32m~/anaconda3/lib/python3.7/urllib/request.py\u001b[0m in \u001b[0;36mhttp_response\u001b[0;34m(self, request, response)\u001b[0m\n\u001b[1;32m    639\u001b[0m         \u001b[0;32mif\u001b[0m \u001b[0;32mnot\u001b[0m \u001b[0;34m(\u001b[0m\u001b[0;36m200\u001b[0m \u001b[0;34m<=\u001b[0m \u001b[0mcode\u001b[0m \u001b[0;34m<\u001b[0m \u001b[0;36m300\u001b[0m\u001b[0;34m)\u001b[0m\u001b[0;34m:\u001b[0m\u001b[0;34m\u001b[0m\u001b[0;34m\u001b[0m\u001b[0m\n\u001b[1;32m    640\u001b[0m             response = self.parent.error(\n\u001b[0;32m--> 641\u001b[0;31m                 'http', request, response, code, msg, hdrs)\n\u001b[0m\u001b[1;32m    642\u001b[0m \u001b[0;34m\u001b[0m\u001b[0m\n\u001b[1;32m    643\u001b[0m         \u001b[0;32mreturn\u001b[0m \u001b[0mresponse\u001b[0m\u001b[0;34m\u001b[0m\u001b[0;34m\u001b[0m\u001b[0m\n",
      "\u001b[0;32m~/anaconda3/lib/python3.7/urllib/request.py\u001b[0m in \u001b[0;36merror\u001b[0;34m(self, proto, *args)\u001b[0m\n\u001b[1;32m    567\u001b[0m         \u001b[0;32mif\u001b[0m \u001b[0mhttp_err\u001b[0m\u001b[0;34m:\u001b[0m\u001b[0;34m\u001b[0m\u001b[0;34m\u001b[0m\u001b[0m\n\u001b[1;32m    568\u001b[0m             \u001b[0margs\u001b[0m \u001b[0;34m=\u001b[0m \u001b[0;34m(\u001b[0m\u001b[0mdict\u001b[0m\u001b[0;34m,\u001b[0m \u001b[0;34m'default'\u001b[0m\u001b[0;34m,\u001b[0m \u001b[0;34m'http_error_default'\u001b[0m\u001b[0;34m)\u001b[0m \u001b[0;34m+\u001b[0m \u001b[0morig_args\u001b[0m\u001b[0;34m\u001b[0m\u001b[0;34m\u001b[0m\u001b[0m\n\u001b[0;32m--> 569\u001b[0;31m             \u001b[0;32mreturn\u001b[0m \u001b[0mself\u001b[0m\u001b[0;34m.\u001b[0m\u001b[0m_call_chain\u001b[0m\u001b[0;34m(\u001b[0m\u001b[0;34m*\u001b[0m\u001b[0margs\u001b[0m\u001b[0;34m)\u001b[0m\u001b[0;34m\u001b[0m\u001b[0;34m\u001b[0m\u001b[0m\n\u001b[0m\u001b[1;32m    570\u001b[0m \u001b[0;34m\u001b[0m\u001b[0m\n\u001b[1;32m    571\u001b[0m \u001b[0;31m# XXX probably also want an abstract factory that knows when it makes\u001b[0m\u001b[0;34m\u001b[0m\u001b[0;34m\u001b[0m\u001b[0;34m\u001b[0m\u001b[0m\n",
      "\u001b[0;32m~/anaconda3/lib/python3.7/urllib/request.py\u001b[0m in \u001b[0;36m_call_chain\u001b[0;34m(self, chain, kind, meth_name, *args)\u001b[0m\n\u001b[1;32m    501\u001b[0m         \u001b[0;32mfor\u001b[0m \u001b[0mhandler\u001b[0m \u001b[0;32min\u001b[0m \u001b[0mhandlers\u001b[0m\u001b[0;34m:\u001b[0m\u001b[0;34m\u001b[0m\u001b[0;34m\u001b[0m\u001b[0m\n\u001b[1;32m    502\u001b[0m             \u001b[0mfunc\u001b[0m \u001b[0;34m=\u001b[0m \u001b[0mgetattr\u001b[0m\u001b[0;34m(\u001b[0m\u001b[0mhandler\u001b[0m\u001b[0;34m,\u001b[0m \u001b[0mmeth_name\u001b[0m\u001b[0;34m)\u001b[0m\u001b[0;34m\u001b[0m\u001b[0;34m\u001b[0m\u001b[0m\n\u001b[0;32m--> 503\u001b[0;31m             \u001b[0mresult\u001b[0m \u001b[0;34m=\u001b[0m \u001b[0mfunc\u001b[0m\u001b[0;34m(\u001b[0m\u001b[0;34m*\u001b[0m\u001b[0margs\u001b[0m\u001b[0;34m)\u001b[0m\u001b[0;34m\u001b[0m\u001b[0;34m\u001b[0m\u001b[0m\n\u001b[0m\u001b[1;32m    504\u001b[0m             \u001b[0;32mif\u001b[0m \u001b[0mresult\u001b[0m \u001b[0;32mis\u001b[0m \u001b[0;32mnot\u001b[0m \u001b[0;32mNone\u001b[0m\u001b[0;34m:\u001b[0m\u001b[0;34m\u001b[0m\u001b[0;34m\u001b[0m\u001b[0m\n\u001b[1;32m    505\u001b[0m                 \u001b[0;32mreturn\u001b[0m \u001b[0mresult\u001b[0m\u001b[0;34m\u001b[0m\u001b[0;34m\u001b[0m\u001b[0m\n",
      "\u001b[0;32m~/anaconda3/lib/python3.7/urllib/request.py\u001b[0m in \u001b[0;36mhttp_error_default\u001b[0;34m(self, req, fp, code, msg, hdrs)\u001b[0m\n\u001b[1;32m    647\u001b[0m \u001b[0;32mclass\u001b[0m \u001b[0mHTTPDefaultErrorHandler\u001b[0m\u001b[0;34m(\u001b[0m\u001b[0mBaseHandler\u001b[0m\u001b[0;34m)\u001b[0m\u001b[0;34m:\u001b[0m\u001b[0;34m\u001b[0m\u001b[0;34m\u001b[0m\u001b[0m\n\u001b[1;32m    648\u001b[0m     \u001b[0;32mdef\u001b[0m \u001b[0mhttp_error_default\u001b[0m\u001b[0;34m(\u001b[0m\u001b[0mself\u001b[0m\u001b[0;34m,\u001b[0m \u001b[0mreq\u001b[0m\u001b[0;34m,\u001b[0m \u001b[0mfp\u001b[0m\u001b[0;34m,\u001b[0m \u001b[0mcode\u001b[0m\u001b[0;34m,\u001b[0m \u001b[0mmsg\u001b[0m\u001b[0;34m,\u001b[0m \u001b[0mhdrs\u001b[0m\u001b[0;34m)\u001b[0m\u001b[0;34m:\u001b[0m\u001b[0;34m\u001b[0m\u001b[0;34m\u001b[0m\u001b[0m\n\u001b[0;32m--> 649\u001b[0;31m         \u001b[0;32mraise\u001b[0m \u001b[0mHTTPError\u001b[0m\u001b[0;34m(\u001b[0m\u001b[0mreq\u001b[0m\u001b[0;34m.\u001b[0m\u001b[0mfull_url\u001b[0m\u001b[0;34m,\u001b[0m \u001b[0mcode\u001b[0m\u001b[0;34m,\u001b[0m \u001b[0mmsg\u001b[0m\u001b[0;34m,\u001b[0m \u001b[0mhdrs\u001b[0m\u001b[0;34m,\u001b[0m \u001b[0mfp\u001b[0m\u001b[0;34m)\u001b[0m\u001b[0;34m\u001b[0m\u001b[0;34m\u001b[0m\u001b[0m\n\u001b[0m\u001b[1;32m    650\u001b[0m \u001b[0;34m\u001b[0m\u001b[0m\n\u001b[1;32m    651\u001b[0m \u001b[0;32mclass\u001b[0m \u001b[0mHTTPRedirectHandler\u001b[0m\u001b[0;34m(\u001b[0m\u001b[0mBaseHandler\u001b[0m\u001b[0;34m)\u001b[0m\u001b[0;34m:\u001b[0m\u001b[0;34m\u001b[0m\u001b[0;34m\u001b[0m\u001b[0m\n",
      "\u001b[0;31mHTTPError\u001b[0m: HTTP Error 404: Not Found"
     ]
    }
   ],
   "source": [
    "for a in aboutPages:\n",
    "    print('')\n",
    "    print('')\n",
    "    print(a)\n",
    "    print('')\n",
    "    \n",
    "    print(websiteText(a))"
   ]
  }
 ],
 "metadata": {
  "kernelspec": {
   "display_name": "Python 3",
   "language": "python",
   "name": "python3"
  },
  "language_info": {
   "codemirror_mode": {
    "name": "ipython",
    "version": 3
   },
   "file_extension": ".py",
   "mimetype": "text/x-python",
   "name": "python",
   "nbconvert_exporter": "python",
   "pygments_lexer": "ipython3",
   "version": "3.7.3"
  }
 },
 "nbformat": 4,
 "nbformat_minor": 4
}
