{
 "cells": [
  {
   "cell_type": "code",
   "execution_count": null,
   "metadata": {},
   "outputs": [],
   "source": [
    "## An example of how to run from command line:\n",
    "##       ipython BlogCrawling_bloginfo.py blognames output_filename\n",
    "## where output_filename is the output zip file name\n",
    "## The output is tumblrdata/output_filename.gz\n",
    "## Make sure to run it with ipython and not python"
   ]
  },
  {
   "cell_type": "code",
   "execution_count": null,
   "metadata": {},
   "outputs": [],
   "source": [
    "%run etl_tumblr_to_cassandra.ipynb\n",
    "\n",
    "import sys\n",
    "assert sys.version_info >= (3, 5) # make sure we have Python 3.5+\n",
    "import json\n",
    "from zipfile import ZipFile \n",
    "import gzip\n",
    "import pandas as pd"
   ]
  },
  {
   "cell_type": "code",
   "execution_count": null,
   "metadata": {},
   "outputs": [],
   "source": [
    "# Output : Dictionary\n",
    "# Input : Series sources\n",
    "# Summary : getPostInfo(sources) runs through sources, which is a pandas Series, and returns a dictionay with the blogname as key and necessary data as value\n",
    "def getPostInfo(sources):\n",
    "    info_dict = {}\n",
    "    for blog in sources:\n",
    "        info_dict[blog] = make_json(blog) # make_json is from etl_tumblr_to_cassandra.ipynb\n",
    "    return info_dict"
   ]
  },
  {
   "cell_type": "code",
   "execution_count": null,
   "metadata": {},
   "outputs": [],
   "source": [
    "def main(input_filename, output_filename):\n",
    "    df = pd.read_csv('tumblrdata/' + input_filename + '.csv')\n",
    "    all_sources = df.iloc[:,1]\n",
    "    s = json.dumps(getPostInfo(all_sources))\n",
    "    jsonfilename = 'tumblrdata/' + output_filename\n",
    "    with gzip.open(jsonfilename + \".gz\", \"wb\") as f:\n",
    "        f.write(bytes(s,\"utf-8\"))"
   ]
  },
  {
   "cell_type": "code",
   "execution_count": null,
   "metadata": {},
   "outputs": [],
   "source": [
    "input_filename = sys.argv[1]\n",
    "output_filename = sys.argv[2]\n",
    "main(input_filename, output_filename)"
   ]
  }
 ],
 "metadata": {
  "kernelspec": {
   "display_name": "Python 3",
   "language": "python",
   "name": "python3"
  },
  "language_info": {
   "codemirror_mode": {
    "name": "ipython",
    "version": 3
   },
   "file_extension": ".py",
   "mimetype": "text/x-python",
   "name": "python",
   "nbconvert_exporter": "python",
   "pygments_lexer": "ipython3",
   "version": "3.7.3"
  }
 },
 "nbformat": 4,
 "nbformat_minor": 4
}
