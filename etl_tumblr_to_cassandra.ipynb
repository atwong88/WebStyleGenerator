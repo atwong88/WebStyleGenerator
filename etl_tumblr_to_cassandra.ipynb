{
 "cells": [
  {
   "cell_type": "code",
   "execution_count": 103,
   "metadata": {},
   "outputs": [],
   "source": [
    "import pytumblr\n",
    "# pip install pytumblr -- if not already installed"
   ]
  },
  {
   "cell_type": "code",
   "execution_count": 104,
   "metadata": {},
   "outputs": [],
   "source": [
    "# Authenticate via OAuth\n",
    "# We only need the consumer key to call \"posts\" function\n",
    "client = pytumblr.TumblrRestClient('nAvaCgNT6dVls4dxKYnWyM1as57L0aSAkSXAayRCPEtNxJSQjr')"
   ]
  },
  {
   "cell_type": "code",
   "execution_count": 105,
   "metadata": {},
   "outputs": [],
   "source": [
    "# Make the request\n",
    "# Use minkim25.tumblr.com for test\n",
    "data = client.posts('minkim25.tumblr.com')"
   ]
  },
  {
   "cell_type": "code",
   "execution_count": 106,
   "metadata": {},
   "outputs": [],
   "source": [
    "# cassandra table create statement\n",
    "# added 'last_update' column for possible scenario of \"training only using the blogs updated in the last 2 years\"\n",
    "\n",
    "# CREATE TABLE tumblr_data (\n",
    "# \twebsite TEXT,\n",
    "# \tlast_update TIMESTAMP,\n",
    "# \ttitle_font TEXT,\n",
    "# \tbody_font TEXT,\n",
    "# \tback_color TEXT,\n",
    "# \ttext_color TEXT,\n",
    "# \tlink_color TEXT,\n",
    "# \ttitle_text TEXT,\n",
    "# \tbody_text TEXT,\n",
    "# \tPRIMARY KEY (website)\n",
    "# );\n",
    "\n",
    "# tumblr data pattern:\n",
    "# 1) only pick 'text' type post => 'posts': [{'type': 'text'~~~}~~~]\n",
    "# 2) fonts and colors are the same for all posts since they are under 'blog' attribute\n",
    "#    but they need body contents. If body is empty, 'trail' will be empty\n",
    "# 3) title and/or body can be empty (if title is empty, 'title': None, whereas 'comment': '' when body is empty)\n",
    "\n",
    "# website = {'blog': {~~~'url': 'THIS'~~~}~~~}\n",
    "# last_update = first in 'posts': [{~~~'date': 'THIS'~~~}~~~]\n",
    "# title_font = first in 'posts': [~~~{~~~'trail': [{'blog': {~~~'theme': {~~~'title_font': 'THIS'~~~}~~~}}]~~~}~~~]\n",
    "# body_font = first in 'posts': [~~~{~~~'trail': [{'blog': {~~~'theme': {~~~'body_font': 'THIS'~~~}~~~}}]~~~}~~~]\n",
    "# back_color = first in 'posts': [~~~{~~~'trail': [{'blog': {~~~'theme': {~~~'background_color': 'THIS'~~~}~~~}}]~~~}~~~]\n",
    "# text_color = first in 'posts': [~~~{~~~'trail': [{'blog': {~~~'theme': {~~~'title_color': 'THIS'~~~}~~~}}]~~~}~~~]\n",
    "# link_color = first in 'posts': [~~~{~~~'trail': [{'blog': {~~~'theme': {~~~'link_color': 'THIS'~~~}~~~}}]~~~}~~~]\n",
    "# title_text = append for every post in 'posts': [~~~{~~~'title': 'THIS'~~~}~~~]\n",
    "# body_text = append for every post in 'posts': [~~~{~~~'reblog': {'comment': 'THIS'~~~}~~~}~~~]\n"
   ]
  },
  {
   "cell_type": "code",
   "execution_count": 107,
   "metadata": {},
   "outputs": [
    {
     "name": "stdout",
     "output_type": "stream",
     "text": [
      "https://minkim25.tumblr.com/\n"
     ]
    }
   ],
   "source": [
    "website = data['blog']['url']\n",
    "print(website)"
   ]
  },
  {
   "cell_type": "code",
   "execution_count": 108,
   "metadata": {},
   "outputs": [
    {
     "name": "stdout",
     "output_type": "stream",
     "text": [
      "2019-11-18 05:08:54 GMT\n"
     ]
    }
   ],
   "source": [
    "last_update = data['posts'][0]['date']\n",
    "print(last_update)"
   ]
  },
  {
   "cell_type": "code",
   "execution_count": 110,
   "metadata": {},
   "outputs": [
    {
     "name": "stdout",
     "output_type": "stream",
     "text": [
      "theme: Gibson/Helvetica Neue/#d4e8ff/#444444/#529ECC\n",
      "title:  testing empty body second one... first post\n",
      "body:  <p>testing empty title</p> <p>as written in title…</p><p>one two three</p><p>test test test</p> <p>This is Young’s first post written for a test purpose. </p><p>Currently working on \n",
      "\n",
      "CMPT732-Project-PieSparkDayum.</p><p>Let’s go Dayum!</p>\n"
     ]
    }
   ],
   "source": [
    "trail_flag = 0\n",
    "title_text = \"\"\n",
    "body_text = \"\"\n",
    "for post in data['posts']:\n",
    "    if post['type'] == 'text':\n",
    "        if trail_flag == 0 and post['trail'] != []:\n",
    "            theme = post['trail'][0]['blog']['theme']\n",
    "            title_font = theme['title_font']\n",
    "            body_font = theme['body_font']\n",
    "            back_color = theme['background_color']\n",
    "            text_color = theme['title_color']\n",
    "            link_color = theme['link_color']\n",
    "            trail_flag = 1\n",
    "        if post['title'] != None:\n",
    "            title_text = title_text + ' ' + post['title']\n",
    "        if post['reblog']['comment'] != '':\n",
    "            body_text = body_text + ' ' + post['reblog']['comment']\n",
    "\n",
    "print('theme: ' + title_font + '/' + body_font + '/' + back_color + '/' + text_color + '/' + link_color)\n",
    "print('title: ' + title_text)\n",
    "print('body: ' + body_text)"
   ]
  },
  {
   "cell_type": "code",
   "execution_count": null,
   "metadata": {},
   "outputs": [],
   "source": []
  },
  {
   "cell_type": "code",
   "execution_count": null,
   "metadata": {},
   "outputs": [],
   "source": []
  }
 ],
 "metadata": {
  "kernelspec": {
   "display_name": "Python 3",
   "language": "python",
   "name": "python3"
  },
  "language_info": {
   "codemirror_mode": {
    "name": "ipython",
    "version": 3
   },
   "file_extension": ".py",
   "mimetype": "text/x-python",
   "name": "python",
   "nbconvert_exporter": "python",
   "pygments_lexer": "ipython3",
   "version": "3.6.5"
  }
 },
 "nbformat": 4,
 "nbformat_minor": 2
}
