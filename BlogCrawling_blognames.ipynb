{
 "cells": [
  {
   "cell_type": "code",
   "execution_count": 1,
   "metadata": {},
   "outputs": [],
   "source": [
    "## An example of how to run from command line:\n",
    "##       python BlogCrawling_blognames.py 1\n",
    "## where 1 is the number of recursion levels\n",
    "## The output is tumblrdata/blognames.csv file"
   ]
  },
  {
   "cell_type": "code",
   "execution_count": 1,
   "metadata": {},
   "outputs": [],
   "source": [
    "import sys\n",
    "assert sys.version_info >= (3, 5) # make sure we have Python 3.5+\n",
    "import pytumblr\n",
    "import pandas as pd\n",
    "from pandas.io.json import json_normalize"
   ]
  },
  {
   "cell_type": "code",
   "execution_count": 3,
   "metadata": {},
   "outputs": [],
   "source": [
    "# Output : Series\n",
    "# Input : String seed_blog, Series all_sources, Integer recursive_count\n",
    "# Summary : createSources returns a pandas Series containing blognames that were reblogged by seed_blog without duplicates and NANs\n",
    "def createSources(seed_blog, all_sources, recursive_count):\n",
    "    if recursive_count >= total_recursive_count:\n",
    "        return all_sources\n",
    "    posts_json = client.posts(seed_blog + '.tumblr.com') #json object with all post information\n",
    "    if 'posts' in posts_json:\n",
    "        posts_df = json_normalize(posts_json['posts']) #pandas dataframe\n",
    "        if 'source_title' in posts_df.columns:\n",
    "            sources = posts_df['source_title'].dropna().drop_duplicates() #pandas dataframe containing only blognames\n",
    "            all_sources = all_sources.append(sources)\n",
    "            for s in sources:\n",
    "                all_sources = all_sources.append(createSources(s, all_sources, recursive_count + 1)) #recursive call here\n",
    "    return all_sources.drop_duplicates()"
   ]
  },
  {
   "cell_type": "code",
   "execution_count": 8,
   "metadata": {},
   "outputs": [],
   "source": [
    "# Output: Series\n",
    "#Input : Integer total_recursive_count\n",
    "#Summary: returns list of blognames\n",
    "def main(total_recursive_count):\n",
    "    starting_seed = 'adriwong' \n",
    "    result = createSources(starting_seed, pd.Series([]), 0)\n",
    "    result.to_csv('tumblrdata/blognames.csv')"
   ]
  },
  {
   "cell_type": "code",
   "execution_count": null,
   "metadata": {},
   "outputs": [],
   "source": [
    "# Authenticate via OAuth\n",
    "# We only need the consumer key to call \"posts\" function\n",
    "client = pytumblr.TumblrRestClient('nAvaCgNT6dVls4dxKYnWyM1as57L0aSAkSXAayRCPEtNxJSQjr')\n",
    "total_recursive_count = int(sys.argv[1]) # number of extra layers after the original blog seed\n",
    "main(total_recursive_count)"
   ]
  }
 ],
 "metadata": {
  "kernelspec": {
   "display_name": "Python 3",
   "language": "python",
   "name": "python3"
  },
  "language_info": {
   "codemirror_mode": {
    "name": "ipython",
    "version": 3
   },
   "file_extension": ".py",
   "mimetype": "text/x-python",
   "name": "python",
   "nbconvert_exporter": "python",
   "pygments_lexer": "ipython3",
   "version": "3.7.3"
  }
 },
 "nbformat": 4,
 "nbformat_minor": 4
}
