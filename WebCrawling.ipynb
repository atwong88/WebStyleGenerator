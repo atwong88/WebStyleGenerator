{
 "cells": [
  {
   "cell_type": "code",
   "execution_count": 1,
   "metadata": {},
   "outputs": [],
   "source": [
    "from bs4 import BeautifulSoup\n",
    "import urllib, random, re, string\n",
    "import cssutils\n",
    "from pprint import pprint"
   ]
  },
  {
   "cell_type": "code",
   "execution_count": 2,
   "metadata": {},
   "outputs": [],
   "source": [
    " \n",
    "def visible(element):\n",
    "    #if element.parent.name in [ 'script', '[document]', 'head', 'title','style']:\n",
    "    if element.parent.name in ['[document]', 'script', 'head', 'title']:\n",
    "        return False\n",
    "    elif re.match('<!--.*-->', str(element)):\n",
    "        return False\n",
    "    return True"
   ]
  },
  {
   "cell_type": "code",
   "execution_count": 3,
   "metadata": {},
   "outputs": [],
   "source": [
    "def isAboutPage(element):\n",
    "    if 'about' in element:\n",
    "        return True\n",
    "    return False"
   ]
  },
  {
   "cell_type": "code",
   "execution_count": 4,
   "metadata": {},
   "outputs": [],
   "source": [
    "def websiteText(url):\n",
    "    htmltext = urllib.request.urlopen(url).read()\n",
    "    soup = BeautifulSoup(htmltext)\n",
    "    texts = soup.findAll(text=True)\n",
    "    visible_texts = filter(visible, texts)\n",
    "    result = filter(lambda x: x != '\\n', visible_texts)\n",
    "    articleResult = \"\"\n",
    " \n",
    "    for text in result:\n",
    "        articleResult += str(text.encode(\"utf-8\"))\n",
    " \n",
    "    articleResult = str(articleResult)\n",
    "    #articleResult = BeautifulSoup(articleResult, convertEntities=BeautifulSoup.HTML_ENTITIES)\n",
    " \n",
    "    return articleResult"
   ]
  },
  {
   "cell_type": "code",
   "execution_count": 5,
   "metadata": {},
   "outputs": [],
   "source": [
    "def getAllHrefs(url):\n",
    "    hrefs = []\n",
    "    html_page = urllib.request.urlopen(url)\n",
    "    soup = BeautifulSoup(html_page)\n",
    " \n",
    "    for link in soup.findAll('a'):\n",
    "        href = link.get('href')\n",
    " \n",
    "        if href[0] == '/' :\n",
    "            href = url + href\n",
    "        hrefs.append(href)    \n",
    " \n",
    "    return hrefs"
   ]
  },
  {
   "cell_type": "markdown",
   "metadata": {},
   "source": [
    "# Semantic Text"
   ]
  },
  {
   "cell_type": "code",
   "execution_count": 6,
   "metadata": {},
   "outputs": [],
   "source": [
    "def getAboutPages(url):\n",
    "    allHrefs = getAllHrefs(url)\n",
    " \n",
    "    aboutPages = filter(isAboutPage, allHrefs)\n",
    "    return aboutPages\n",
    "        "
   ]
  },
  {
   "cell_type": "markdown",
   "metadata": {},
   "source": [
    "# Style Text"
   ]
  },
  {
   "cell_type": "code",
   "execution_count": 7,
   "metadata": {},
   "outputs": [],
   "source": [
    "def getStylePages(url):\n",
    "    htmltext = urllib.request.urlopen(url).read()\n",
    "    soup = BeautifulSoup(htmltext)\n",
    "    cssSheets = [link[\"href\"] for link in soup.findAll('link') if 'stylesheet' in link.get('rel', [])]\n",
    "    return cssSheets"
   ]
  },
  {
   "cell_type": "code",
   "execution_count": 28,
   "metadata": {},
   "outputs": [],
   "source": [
    "def getFonts(url):\n",
    "    \n",
    "    fonts = []\n",
    "    cssPagesSample = getStylePages(url)\n",
    "    cssPages = list(cssPagesSample)\n",
    "    \n",
    "    for cssPage in cssPages:\n",
    "        styleSample = url+cssPage\n",
    "        cssText = urllib.request.urlopen(styleSample).read()\n",
    "        soup = BeautifulSoup(cssText)\n",
    "        cssTextRaw = soup.findAll(text=True)\n",
    "        \n",
    "        for styletag in str(cssTextRaw[0]).split():\n",
    "            if 'font-family' in styletag:\n",
    "                startPos = styletag.find('font-family')\n",
    "                endPos = styletag.find(';',startPos)\n",
    "                fonts.append(styletag[startPos:endPos])\n",
    "                \n",
    "    return fonts"
   ]
  },
  {
   "cell_type": "code",
   "execution_count": 29,
   "metadata": {},
   "outputs": [],
   "source": [
    "def getBackgroundColors(url):\n",
    "    \n",
    "    backgroundColors = []\n",
    "    cssPagesSample = getStylePages(url)\n",
    "    cssPages = list(cssPagesSample)\n",
    "    \n",
    "    for cssPage in cssPages:\n",
    "        styleSample = url+cssPage\n",
    "        cssText = urllib.request.urlopen(styleSample).read()\n",
    "        soup = BeautifulSoup(cssText)\n",
    "        cssTextRaw = soup.findAll(text=True)\n",
    "        \n",
    "        for styletag in str(cssTextRaw[0]).split():\n",
    "            if 'background-color' in styletag:\n",
    "                startPos = styletag.find('background-color')\n",
    "                endPos = styletag.find(';',startPos)\n",
    "                backgroundColors.append(styletag[startPos:endPos])\n",
    "                \n",
    "    return backgroundColors"
   ]
  },
  {
   "cell_type": "markdown",
   "metadata": {},
   "source": [
    "# Testing Area"
   ]
  },
  {
   "cell_type": "code",
   "execution_count": 9,
   "metadata": {},
   "outputs": [],
   "source": [
    "aboutPagesSample = getAboutPages('https://www.uwaterloo.ca/')"
   ]
  },
  {
   "cell_type": "code",
   "execution_count": 31,
   "metadata": {},
   "outputs": [
    {
     "data": {
      "text/plain": [
       "['font-family:\"DINWebItalic\"',\n",
       " 'font-family:\"DINWeb\",sans-serif',\n",
       " 'font-family:\"DINWebBold\",sans-serif',\n",
       " 'font-family:\"DINWebBold\"',\n",
       " 'font-family:\"DINWebBold\",sans-serif',\n",
       " 'font-family:\"DINWebBold\",sans-serif',\n",
       " 'font-family:\"DINWebBold\",sans-serif',\n",
       " 'font-family:\"DINWebBold\",sans-serif',\n",
       " 'font-family:\"DINWebBold\",sans-serif',\n",
       " 'font-family:\"DINWeb\",sans-serif',\n",
       " 'font-family:\"DINWeb\",sans-serif',\n",
       " 'font-family:\"DINWeb\",sans-serif',\n",
       " 'font-family:\"DINWeb\",sans-serif',\n",
       " 'font-family:\"DINWeb\",sans-serif',\n",
       " 'font-family:\"DINWebMedium\"',\n",
       " 'font-family:DINWebMedium,sans-serif',\n",
       " 'font-family:DINWeb,sans-serif',\n",
       " 'font-family:\"DINWebBlack\",sans-serif',\n",
       " 'font-family:\"DINWebBold\",sans-serif',\n",
       " 'font-family:\"DINWeb\",sans-serif',\n",
       " 'font-family:\"DINWebBold\",sans-serif',\n",
       " 'font-family:\"DINWebLight\",sans-serif',\n",
       " 'font-family:\"DINWebLight\",sans-serif',\n",
       " 'font-family:\"DINWebBold\",sans-serif',\n",
       " 'font-family:\"DINWeb\",sans-serif',\n",
       " 'font-family:\"DINWebBold\",sans-serif',\n",
       " 'font-family:\"DINWebBold\",sans-serif',\n",
       " 'font-family:\"DINWebBlack\",sans-serif',\n",
       " 'font-family:\"DINWeb\",sans-serif',\n",
       " 'font-family:\"DINWebBlack\",sans-serif',\n",
       " 'font-family:\"DINWeb\",sans-serif',\n",
       " 'font-family:\"DINWeb\",Helvetica,Arial,sans-serif',\n",
       " 'font-family:\"DINWeb\",sans-serif',\n",
       " 'font-family:\"DINWeb\",Arial,Helvetica,sans-serif',\n",
       " 'font-family:\"DINWeb\",Arial,Helvetica,sans-serif',\n",
       " 'font-family:DINWeb,Arial,Helvetica,sans-serif',\n",
       " 'font-family:\"DINWeb\",Arial,Helvetica,sans-serif',\n",
       " 'font-family:\"DINWeb\",sans-serif',\n",
       " 'font-family:\"DINWebBold\",sans-serif',\n",
       " 'font-family:inherit',\n",
       " 'font-family:\"DINWebMedium\",sans-serif',\n",
       " 'font-family:DINWeb,sans-serif',\n",
       " 'font-family:DINWebMedium,sans-serif',\n",
       " 'font-family:DINWeb,sans-serif',\n",
       " 'font-family:DINWeb,sans-serif',\n",
       " 'font-family:\"DINWeb\",sans-serif',\n",
       " 'font-family:Cambria,Georgia,\"Time',\n",
       " 'font-family:\"DINWeb\",sans-serif',\n",
       " 'font-family:\"DINWeb\",sans-serif',\n",
       " \"font-family:'DINWeb'\",\n",
       " 'font-family:\"DINWebBold\"',\n",
       " \"font-family:'DINWeb'\",\n",
       " 'font-family:monospace,monospace',\n",
       " 'font-family:Georgia,Times,serif',\n",
       " \"font-family:'oswald','DINWeb',sans-serif\",\n",
       " 'font-family:\"DINWeb\"',\n",
       " \"font-family:'oswald','DINWeb',sans-serif\",\n",
       " \"font-family:'oswald','DINWeb',sans-serif\",\n",
       " \"font-family:'DINWeb'\",\n",
       " \"font-family:'DINWeb'\",\n",
       " 'font-family:\"DINWeb\",sans-serif',\n",
       " 'font-family:\"DINWeb\",sans-serif',\n",
       " 'font-family:\"DinWeb\",sans-serif',\n",
       " 'font-family:\"DINWebBold\",sans-serif',\n",
       " 'font-family:\"DINWebMedium\"',\n",
       " 'font-family:\"DINWebBold\",sans-serif',\n",
       " \"font-family:'fontawesome-new'\",\n",
       " 'font-family:\"fontawesome-new\"',\n",
       " 'font-family',\n",
       " 'font-family',\n",
       " 'font-family',\n",
       " 'font-family',\n",
       " 'font-family',\n",
       " 'font-family',\n",
       " 'font-family',\n",
       " \"font-family:'DINWebLight'\",\n",
       " \"font-family:'DINWeb'\",\n",
       " \"font-family:'DINWebBold'\",\n",
       " \"font-family:'DINWebMedium'\",\n",
       " \"font-family:'DINWebBlack'\",\n",
       " \"font-family:'DINWebLightItalic'\",\n",
       " \"font-family:'DINWebItalic'\",\n",
       " \"font-family:'DINWebMediumItalic'\",\n",
       " \"font-family:'DINWebBoldItalic'\",\n",
       " \"font-family:'DINWebBlackItalic'\",\n",
       " \"font-family:'fontawesome'\",\n",
       " 'font-family:inherit',\n",
       " 'font-family:\"DINWebBold\",sans-serif',\n",
       " 'font-family:\"Lucid',\n",
       " 'font-family:\"DINWeb\",san-serif!important',\n",
       " 'font-family:\"DINWebMedium\",sans-serif',\n",
       " 'font-family:\"DINWeb\",sans-serif',\n",
       " 'font-family:\"DINWeb\",sans-serif',\n",
       " 'font-family:\"DINWeb\",sans-serif',\n",
       " 'font-family:\"DINWebLight\"',\n",
       " 'font-family:\"DINWeb\",sans-serif',\n",
       " \"font-family:'DINWebLight'\",\n",
       " \"font-family:'DINWeb'\",\n",
       " \"font-family:'DINWebBold'\",\n",
       " \"font-family:'DINWebMedium'\",\n",
       " \"font-family:'DINWebBlack'\",\n",
       " \"font-family:'DINWebLightItalic'\",\n",
       " \"font-family:'DINWebItalic'\",\n",
       " \"font-family:'DINWebMediumItalic'\",\n",
       " \"font-family:'DINWebBoldItalic'\",\n",
       " \"font-family:'DINWebBlackItalic'\",\n",
       " \"font-family:'fontawesome'\",\n",
       " 'font-family:inherit',\n",
       " 'font-family:\"DINWeb\",sans-serif',\n",
       " 'font-family:\"DINWeb\",sans-serif',\n",
       " 'font-family:\"DINWebBold\",sans-serif',\n",
       " 'font-family:\"DINWeb\",sans-serif',\n",
       " 'font-family:\"DINWebMedium\",sans-serif',\n",
       " 'font-family:\"DINWeb\",sans-serif',\n",
       " 'font-family:\"DINWeb\",sans-serif',\n",
       " 'font-family:\"DINWebLight\",sans-serif',\n",
       " 'font-family:\"OSWALD\",sans-serif',\n",
       " 'font-family:\"DINWebLight\",sans-serif',\n",
       " 'font-family:\"OSWALD\",sans-serif',\n",
       " 'font-family:\"OSWALD\",sans-serif',\n",
       " 'font-family:\"DINWeb\",sans-serif',\n",
       " 'font-family:\"DINWeb\",sans-serif',\n",
       " 'font-family:\"DINWeb\",sans-serif',\n",
       " 'font-family:\"DINWebBold\",sans-serif']"
      ]
     },
     "execution_count": 31,
     "metadata": {},
     "output_type": "execute_result"
    }
   ],
   "source": [
    "getFonts('http://www.sfu.ca')"
   ]
  },
  {
   "cell_type": "code",
   "execution_count": 30,
   "metadata": {},
   "outputs": [
    {
     "data": {
      "text/plain": [
       "['background-color:#a6192e',\n",
       " 'background-color:white',\n",
       " 'background-color:#EEE',\n",
       " 'background-color:#f2f7f7',\n",
       " 'background-color:#e7f3f9',\n",
       " 'background-color:#000',\n",
       " 'background-color:#a6192e',\n",
       " 'background-color:#e0d10a',\n",
       " 'background-color:#e0d10a',\n",
       " 'background-color:#e0d10a',\n",
       " 'background-color:#666',\n",
       " 'background-color:#333',\n",
       " 'background-color:#f7c7ce',\n",
       " 'background-color:#a6192e',\n",
       " 'background-color:#ebebeb',\n",
       " 'background-color:#d9d9d9',\n",
       " 'background-color:#ebebeb',\n",
       " 'background-color:#a6192e',\n",
       " 'background-color:#a6192e',\n",
       " 'background-color:#000',\n",
       " 'background-color:#700210',\n",
       " 'background-color:#75076b',\n",
       " 'background-color:#003087',\n",
       " 'background-color:#e45e00',\n",
       " 'background-color:#d5b000',\n",
       " 'background-colo',\n",
       " 'background-colo',\n",
       " 'background-colo',\n",
       " 'background-color:#3d3935',\n",
       " 'background-color:#e9eff1',\n",
       " 'background-color:#fbefef',\n",
       " 'background-color:#a6192e',\n",
       " 'background-color:#999',\n",
       " 'background-color:#f7c7ce',\n",
       " 'background-color:#f7c7ce',\n",
       " 'background-color:#a6192e',\n",
       " 'background-color:#f7c7ce',\n",
       " 'background-color:#f7c7ce',\n",
       " 'background-color:#a6192e',\n",
       " 'background-color:#a6192e',\n",
       " 'background-color:transparent',\n",
       " 'background-color:#e9eff1',\n",
       " 'background-color:transparent',\n",
       " 'background-color:#700210',\n",
       " 'background-color:#FFF',\n",
       " 'background-color:#69100d',\n",
       " 'background-color:#000',\n",
       " 'background-color:transparent',\n",
       " 'background-color:#808080',\n",
       " 'background-color:transparent',\n",
       " 'background-color',\n",
       " 'background-color:#fff',\n",
       " 'background-color:#eee',\n",
       " 'background-color:#54585A',\n",
       " 'background-color:#f6f6f6',\n",
       " 'background-color:#a6192e',\n",
       " 'background-color:#a6192e',\n",
       " 'background-color:#D24056',\n",
       " 'background-color:#A6182D',\n",
       " 'background-color:#4A6AA4',\n",
       " 'background-color:#3d3935',\n",
       " 'background-color:#ccc',\n",
       " 'background-color:#D24056',\n",
       " 'background-color:transparent',\n",
       " 'background-color:transparent',\n",
       " 'background-color:#ddd',\n",
       " 'background-color:#eee',\n",
       " 'background-color:#A6192E',\n",
       " 'background-color:#A6192E',\n",
       " 'background-color:#a6192e',\n",
       " 'background-color:#ffffff',\n",
       " 'background-color:#a6192e',\n",
       " 'background-color:#eee',\n",
       " 'background-color:rgba(84,88,90,0.67)',\n",
       " 'background-color:#ffffff',\n",
       " 'background-color:#ffffff',\n",
       " 'background-color:#a6192e',\n",
       " 'background-color:#fff',\n",
       " 'background-color:#ffffff',\n",
       " 'background-color:#fff',\n",
       " 'background-color:#a6192e',\n",
       " 'background-color:inherit',\n",
       " 'background-color:#fff',\n",
       " 'background-color:#54585A',\n",
       " 'background-color:#444444',\n",
       " 'background-color:#ffffff',\n",
       " 'background-color']"
      ]
     },
     "execution_count": 30,
     "metadata": {},
     "output_type": "execute_result"
    }
   ],
   "source": [
    "getBackgroundColors('http://www.sfu.ca')"
   ]
  },
  {
   "cell_type": "code",
   "execution_count": 11,
   "metadata": {},
   "outputs": [
    {
     "data": {
      "text/plain": [
       "['https://uwaterloo.ca/about/',\n",
       " 'https://uwaterloo.ca/about',\n",
       " 'https://uwaterloo.ca/about/how-find-us/contact-waterloo/contact-form',\n",
       " 'https://www.uwaterloo.ca///uwaterloo.ca/about/how-find-us/contact-waterloo',\n",
       " 'https://www.uwaterloo.ca///uwaterloo.ca/about/how-find-us/contact-waterloo/contact-form']"
      ]
     },
     "execution_count": 11,
     "metadata": {},
     "output_type": "execute_result"
    }
   ],
   "source": [
    "aboutPages"
   ]
  },
  {
   "cell_type": "code",
   "execution_count": 10,
   "metadata": {
    "collapsed": true,
    "jupyter": {
     "outputs_hidden": true
    }
   },
   "outputs": [
    {
     "name": "stdout",
     "output_type": "stream",
     "text": [
      "\n",
      "\n",
      "https://uwaterloo.ca/about/\n",
      "\n",
      "b'[if lt IE 7]><div id=\"ie6message\">Your version of Internet Explorer web browser is insecure, not supported by Microsoft, and does not work with this web site. Please use one of these links to upgrade to a modern web browser: <a href=\"http://www.mozilla.org/firefox/\">Firefox</a>, <a href=\"http://www.google.com/chrome\">Google Chrome</a>, <a href=\"http://windows.microsoft.com/en-US/internet-explorer/products/ie/home\">Internet Explorer</a>.</div><![endif]'b' 'b'Skip to main'b'Skip to footer'b'University of Waterloo'b'Admissions'b'About Waterloo'b'Faculties & academics'b'Offices & services'b'Support Waterloo'b'Search'b'Menu'b'This site'b'About Waterloo home'b'Who we are'b'Facts'b'History'b'Leadership and governance'b'Rankings'b'Our differentiators'b'Learning'b'Entrepreneurship'b'Co-op and experiential learning'b'Research'b'Reports'b'Accountability'b'Contact us'b'UWaterloo'b'Admissions'b'About Waterloo'b'Faculties & academics'b'Offices & services'b'Support Waterloo'b'\\n          About Waterloo                  'b' 'b' 'b' /uw-headeranner__alt 'b'About Waterloo home'b'Who we are'b'Our differentiators'b'Reports'b'Accountability'b'Contact us'b'About Waterloo'b' when logged in 'b'Acknowledgment of traditional territory'b'\\n\\tWe acknowledge that the University of Waterloo is located on the traditional territory of the Neutral, Anishinaabe and Haudenosaunee people.\\xc2\\xa0'b'Beyond is where we begin'b'Waterloo goes\\xc2\\xa0beyond the classroom, to a place where experience is the teacher. Beyond problems to solutions that address social, technical and economic needs. Beyond the laboratory, to the research that propels industries, organizations and society.'b\"Waterloo is at the forefront of innovation and is home to transformational research and inspired learning. Located in the heart of Canada's technology hub, we are growing a network of global partnerships that will shape the future by working beyond disciplines and building bridges with industry, institutions and communities.\"b\"Our incredible people and partners take us beyond the lives we're living today, to find solutions to the global challenges that lie ahead. Creating change that goes beyond the status quo and is felt around the world.\"b'Waterloo goes beyond\\xe2\\x80\\x94to challenge, connect and propel our world.'b'Watch video on YouTube'b' 'b' 'b' /node-inner 'b' 'b' /node'b' 'b'/main-content'b\"Download the President's Report (PDF, 1MB) \"b' 'b'Read the Global Impact Report'b' 'b'GET MORE INFORMATION'b'CONTACT US'b' 'b' 'b'/section inner'b'/site main'b'TOP'b'Share'b'About waterloo'b' 'b'Ask a question or send website feedback'b'\\n\\t\\xc2\\xa0'b'\\xc2\\xa0'b'\\n\\t\\xc2\\xa0'b' 'b'University of Waterloo'b'University of Waterloo'b'43.471468'b'-80.544205'b'200 University Avenue West'b'Waterloo'b',\\n          'b'ON'b',\\n          'b'Canada'b'\\xc2\\xa0\\n          'b'N2L 3G1'b'+1 519 888 4567'b'Contact Waterloo'b'Maps & Directions'b'WatSAFE'b'Accessibility'b'Privacy'b'Copyright'b'Media'b'Careers'b'Feedback'b'@uwaterloo social directory'b'Log in'b'/site'\n",
      "\n",
      "\n",
      "https://uwaterloo.ca/about\n",
      "\n",
      "b'[if lt IE 7]><div id=\"ie6message\">Your version of Internet Explorer web browser is insecure, not supported by Microsoft, and does not work with this web site. Please use one of these links to upgrade to a modern web browser: <a href=\"http://www.mozilla.org/firefox/\">Firefox</a>, <a href=\"http://www.google.com/chrome\">Google Chrome</a>, <a href=\"http://windows.microsoft.com/en-US/internet-explorer/products/ie/home\">Internet Explorer</a>.</div><![endif]'b' 'b'Skip to main'b'Skip to footer'b'University of Waterloo'b'Admissions'b'About Waterloo'b'Faculties & academics'b'Offices & services'b'Support Waterloo'b'Search'b'Menu'b'This site'b'About Waterloo home'b'Who we are'b'Facts'b'History'b'Leadership and governance'b'Rankings'b'Our differentiators'b'Learning'b'Entrepreneurship'b'Co-op and experiential learning'b'Research'b'Reports'b'Accountability'b'Contact us'b'UWaterloo'b'Admissions'b'About Waterloo'b'Faculties & academics'b'Offices & services'b'Support Waterloo'b'\\n          About Waterloo                  'b' 'b' 'b' /uw-headeranner__alt 'b'About Waterloo home'b'Who we are'b'Our differentiators'b'Reports'b'Accountability'b'Contact us'b'About Waterloo'b' when logged in 'b'Acknowledgment of traditional territory'b'\\n\\tWe acknowledge that the University of Waterloo is located on the traditional territory of the Neutral, Anishinaabe and Haudenosaunee people.\\xc2\\xa0'b'Beyond is where we begin'b'Waterloo goes\\xc2\\xa0beyond the classroom, to a place where experience is the teacher. Beyond problems to solutions that address social, technical and economic needs. Beyond the laboratory, to the research that propels industries, organizations and society.'b\"Waterloo is at the forefront of innovation and is home to transformational research and inspired learning. Located in the heart of Canada's technology hub, we are growing a network of global partnerships that will shape the future by working beyond disciplines and building bridges with industry, institutions and communities.\"b\"Our incredible people and partners take us beyond the lives we're living today, to find solutions to the global challenges that lie ahead. Creating change that goes beyond the status quo and is felt around the world.\"b'Waterloo goes beyond\\xe2\\x80\\x94to challenge, connect and propel our world.'b'Watch video on YouTube'b' 'b' 'b' /node-inner 'b' 'b' /node'b' 'b'/main-content'b\"Download the President's Report (PDF, 1MB) \"b' 'b'Read the Global Impact Report'b' 'b'GET MORE INFORMATION'b'CONTACT US'b' 'b' 'b'/section inner'b'/site main'b'TOP'b'Share'b'About waterloo'b' 'b'Ask a question or send website feedback'b'\\n\\t\\xc2\\xa0'b'\\xc2\\xa0'b'\\n\\t\\xc2\\xa0'b' 'b'University of Waterloo'b'University of Waterloo'b'43.471468'b'-80.544205'b'200 University Avenue West'b'Waterloo'b',\\n          'b'ON'b',\\n          'b'Canada'b'\\xc2\\xa0\\n          'b'N2L 3G1'b'+1 519 888 4567'b'Contact Waterloo'b'Maps & Directions'b'WatSAFE'b'Accessibility'b'Privacy'b'Copyright'b'Media'b'Careers'b'Feedback'b'@uwaterloo social directory'b'Log in'b'/site'\n",
      "\n",
      "\n",
      "https://uwaterloo.ca/about/how-find-us/contact-waterloo/contact-form\n",
      "\n",
      "b'[if lt IE 7]><div id=\"ie6message\">Your version of Internet Explorer web browser is insecure, not supported by Microsoft, and does not work with this web site. Please use one of these links to upgrade to a modern web browser: <a href=\"http://www.mozilla.org/firefox/\">Firefox</a>, <a href=\"http://www.google.com/chrome\">Google Chrome</a>, <a href=\"http://windows.microsoft.com/en-US/internet-explorer/products/ie/home\">Internet Explorer</a>.</div><![endif]'b' 'b'Skip to main'b'Skip to footer'b'University of Waterloo'b'Admissions'b'About Waterloo'b'Faculties & academics'b'Offices & services'b'Support Waterloo'b'Search'b'Menu'b'This site'b'About Waterloo home'b'Who we are'b'Facts'b'History'b'Leadership and governance'b'Rankings'b'Our differentiators'b'Learning'b'Entrepreneurship'b'Co-op and experiential learning'b'Research'b'Reports'b'Accountability'b'Contact us'b'UWaterloo'b'Admissions'b'About Waterloo'b'Faculties & academics'b'Offices & services'b'Support Waterloo'b'\\n          About Waterloo                  'b' /uw-headeranner__alt 'b'About Waterloo home'b'Who we are'b'Our differentiators'b'Reports'b'Accountability'b'Contact us'b'About Waterloo'b' 'b'Contact form'b' when logged in 'b\"Can't find something, or want to let us know how we're doing? \\xc2\\xa0We'll make sure your inquiry gets to the right place.\"b'Your feedback is appreciated.'b'Information and privacy:'b' questions regarding the collection of information on this form can be directed to the 'b'form administrator'b'.'b'Your name 'b'Your email 'b'* 'b'(required)'b' 'b'Please provide an email if you want a response.'b'Your question or comment 'b'* 'b'(required)'b' 'b'CAPTCHA'b'This question is for testing whether or not you are a human visitor and to prevent automated spam submissions.'b' 'b' 'b' /node-inner 'b' 'b' /node'b' 'b'/main-content'b'LEARN ABOUT WATERLOO'b'PROGRAMS AND ADMISSION'b'REPORT AN ISSUE'b'TECHNICAL SUPPORT'b' 'b\"Download the President's Report (PDF, 1MB) \"b' 'b'Read the Global Impact Report'b' 'b'GET MORE INFORMATION'b'CONTACT US'b' 'b' 'b'/section inner'b'/site main'b'TOP'b'Share'b'About waterloo'b' 'b'Ask a question or send website feedback'b'\\n\\t\\xc2\\xa0'b'\\xc2\\xa0'b'\\n\\t\\xc2\\xa0'b' 'b'University of Waterloo'b'University of Waterloo'b'43.471468'b'-80.544205'b'200 University Avenue West'b'Waterloo'b',\\n          'b'ON'b',\\n          'b'Canada'b'\\xc2\\xa0\\n          'b'N2L 3G1'b'+1 519 888 4567'b'Contact Waterloo'b'Maps & Directions'b'WatSAFE'b'Accessibility'b'Privacy'b'Copyright'b'Media'b'Careers'b'Feedback'b'@uwaterloo social directory'b'Log in'b'/site'\n",
      "\n",
      "\n",
      "https://www.uwaterloo.ca///uwaterloo.ca/about/how-find-us/contact-waterloo\n",
      "\n"
     ]
    },
    {
     "ename": "HTTPError",
     "evalue": "HTTP Error 404: Not Found",
     "output_type": "error",
     "traceback": [
      "\u001b[0;31m---------------------------------------------------------------------------\u001b[0m",
      "\u001b[0;31mHTTPError\u001b[0m                                 Traceback (most recent call last)",
      "\u001b[0;32m<ipython-input-10-4e5746fa433f>\u001b[0m in \u001b[0;36m<module>\u001b[0;34m\u001b[0m\n\u001b[1;32m      5\u001b[0m     \u001b[0mprint\u001b[0m\u001b[0;34m(\u001b[0m\u001b[0;34m''\u001b[0m\u001b[0;34m)\u001b[0m\u001b[0;34m\u001b[0m\u001b[0;34m\u001b[0m\u001b[0m\n\u001b[1;32m      6\u001b[0m \u001b[0;34m\u001b[0m\u001b[0m\n\u001b[0;32m----> 7\u001b[0;31m     \u001b[0mprint\u001b[0m\u001b[0;34m(\u001b[0m\u001b[0mwebsiteText\u001b[0m\u001b[0;34m(\u001b[0m\u001b[0ma\u001b[0m\u001b[0;34m)\u001b[0m\u001b[0;34m)\u001b[0m\u001b[0;34m\u001b[0m\u001b[0;34m\u001b[0m\u001b[0m\n\u001b[0m",
      "\u001b[0;32m<ipython-input-4-7e392e60d3c5>\u001b[0m in \u001b[0;36mwebsiteText\u001b[0;34m(url)\u001b[0m\n\u001b[1;32m      1\u001b[0m \u001b[0;32mdef\u001b[0m \u001b[0mwebsiteText\u001b[0m\u001b[0;34m(\u001b[0m\u001b[0murl\u001b[0m\u001b[0;34m)\u001b[0m\u001b[0;34m:\u001b[0m\u001b[0;34m\u001b[0m\u001b[0;34m\u001b[0m\u001b[0m\n\u001b[0;32m----> 2\u001b[0;31m     \u001b[0mhtmltext\u001b[0m \u001b[0;34m=\u001b[0m \u001b[0murllib\u001b[0m\u001b[0;34m.\u001b[0m\u001b[0mrequest\u001b[0m\u001b[0;34m.\u001b[0m\u001b[0murlopen\u001b[0m\u001b[0;34m(\u001b[0m\u001b[0murl\u001b[0m\u001b[0;34m)\u001b[0m\u001b[0;34m.\u001b[0m\u001b[0mread\u001b[0m\u001b[0;34m(\u001b[0m\u001b[0;34m)\u001b[0m\u001b[0;34m\u001b[0m\u001b[0;34m\u001b[0m\u001b[0m\n\u001b[0m\u001b[1;32m      3\u001b[0m     \u001b[0msoup\u001b[0m \u001b[0;34m=\u001b[0m \u001b[0mBeautifulSoup\u001b[0m\u001b[0;34m(\u001b[0m\u001b[0mhtmltext\u001b[0m\u001b[0;34m)\u001b[0m\u001b[0;34m\u001b[0m\u001b[0;34m\u001b[0m\u001b[0m\n\u001b[1;32m      4\u001b[0m     \u001b[0mtexts\u001b[0m \u001b[0;34m=\u001b[0m \u001b[0msoup\u001b[0m\u001b[0;34m.\u001b[0m\u001b[0mfindAll\u001b[0m\u001b[0;34m(\u001b[0m\u001b[0mtext\u001b[0m\u001b[0;34m=\u001b[0m\u001b[0;32mTrue\u001b[0m\u001b[0;34m)\u001b[0m\u001b[0;34m\u001b[0m\u001b[0;34m\u001b[0m\u001b[0m\n\u001b[1;32m      5\u001b[0m     \u001b[0mvisible_texts\u001b[0m \u001b[0;34m=\u001b[0m \u001b[0mfilter\u001b[0m\u001b[0;34m(\u001b[0m\u001b[0mvisible\u001b[0m\u001b[0;34m,\u001b[0m \u001b[0mtexts\u001b[0m\u001b[0;34m)\u001b[0m\u001b[0;34m\u001b[0m\u001b[0;34m\u001b[0m\u001b[0m\n",
      "\u001b[0;32m~/anaconda3/lib/python3.7/urllib/request.py\u001b[0m in \u001b[0;36murlopen\u001b[0;34m(url, data, timeout, cafile, capath, cadefault, context)\u001b[0m\n\u001b[1;32m    220\u001b[0m     \u001b[0;32melse\u001b[0m\u001b[0;34m:\u001b[0m\u001b[0;34m\u001b[0m\u001b[0;34m\u001b[0m\u001b[0m\n\u001b[1;32m    221\u001b[0m         \u001b[0mopener\u001b[0m \u001b[0;34m=\u001b[0m \u001b[0m_opener\u001b[0m\u001b[0;34m\u001b[0m\u001b[0;34m\u001b[0m\u001b[0m\n\u001b[0;32m--> 222\u001b[0;31m     \u001b[0;32mreturn\u001b[0m \u001b[0mopener\u001b[0m\u001b[0;34m.\u001b[0m\u001b[0mopen\u001b[0m\u001b[0;34m(\u001b[0m\u001b[0murl\u001b[0m\u001b[0;34m,\u001b[0m \u001b[0mdata\u001b[0m\u001b[0;34m,\u001b[0m \u001b[0mtimeout\u001b[0m\u001b[0;34m)\u001b[0m\u001b[0;34m\u001b[0m\u001b[0;34m\u001b[0m\u001b[0m\n\u001b[0m\u001b[1;32m    223\u001b[0m \u001b[0;34m\u001b[0m\u001b[0m\n\u001b[1;32m    224\u001b[0m \u001b[0;32mdef\u001b[0m \u001b[0minstall_opener\u001b[0m\u001b[0;34m(\u001b[0m\u001b[0mopener\u001b[0m\u001b[0;34m)\u001b[0m\u001b[0;34m:\u001b[0m\u001b[0;34m\u001b[0m\u001b[0;34m\u001b[0m\u001b[0m\n",
      "\u001b[0;32m~/anaconda3/lib/python3.7/urllib/request.py\u001b[0m in \u001b[0;36mopen\u001b[0;34m(self, fullurl, data, timeout)\u001b[0m\n\u001b[1;32m    529\u001b[0m         \u001b[0;32mfor\u001b[0m \u001b[0mprocessor\u001b[0m \u001b[0;32min\u001b[0m \u001b[0mself\u001b[0m\u001b[0;34m.\u001b[0m\u001b[0mprocess_response\u001b[0m\u001b[0;34m.\u001b[0m\u001b[0mget\u001b[0m\u001b[0;34m(\u001b[0m\u001b[0mprotocol\u001b[0m\u001b[0;34m,\u001b[0m \u001b[0;34m[\u001b[0m\u001b[0;34m]\u001b[0m\u001b[0;34m)\u001b[0m\u001b[0;34m:\u001b[0m\u001b[0;34m\u001b[0m\u001b[0;34m\u001b[0m\u001b[0m\n\u001b[1;32m    530\u001b[0m             \u001b[0mmeth\u001b[0m \u001b[0;34m=\u001b[0m \u001b[0mgetattr\u001b[0m\u001b[0;34m(\u001b[0m\u001b[0mprocessor\u001b[0m\u001b[0;34m,\u001b[0m \u001b[0mmeth_name\u001b[0m\u001b[0;34m)\u001b[0m\u001b[0;34m\u001b[0m\u001b[0;34m\u001b[0m\u001b[0m\n\u001b[0;32m--> 531\u001b[0;31m             \u001b[0mresponse\u001b[0m \u001b[0;34m=\u001b[0m \u001b[0mmeth\u001b[0m\u001b[0;34m(\u001b[0m\u001b[0mreq\u001b[0m\u001b[0;34m,\u001b[0m \u001b[0mresponse\u001b[0m\u001b[0;34m)\u001b[0m\u001b[0;34m\u001b[0m\u001b[0;34m\u001b[0m\u001b[0m\n\u001b[0m\u001b[1;32m    532\u001b[0m \u001b[0;34m\u001b[0m\u001b[0m\n\u001b[1;32m    533\u001b[0m         \u001b[0;32mreturn\u001b[0m \u001b[0mresponse\u001b[0m\u001b[0;34m\u001b[0m\u001b[0;34m\u001b[0m\u001b[0m\n",
      "\u001b[0;32m~/anaconda3/lib/python3.7/urllib/request.py\u001b[0m in \u001b[0;36mhttp_response\u001b[0;34m(self, request, response)\u001b[0m\n\u001b[1;32m    639\u001b[0m         \u001b[0;32mif\u001b[0m \u001b[0;32mnot\u001b[0m \u001b[0;34m(\u001b[0m\u001b[0;36m200\u001b[0m \u001b[0;34m<=\u001b[0m \u001b[0mcode\u001b[0m \u001b[0;34m<\u001b[0m \u001b[0;36m300\u001b[0m\u001b[0;34m)\u001b[0m\u001b[0;34m:\u001b[0m\u001b[0;34m\u001b[0m\u001b[0;34m\u001b[0m\u001b[0m\n\u001b[1;32m    640\u001b[0m             response = self.parent.error(\n\u001b[0;32m--> 641\u001b[0;31m                 'http', request, response, code, msg, hdrs)\n\u001b[0m\u001b[1;32m    642\u001b[0m \u001b[0;34m\u001b[0m\u001b[0m\n\u001b[1;32m    643\u001b[0m         \u001b[0;32mreturn\u001b[0m \u001b[0mresponse\u001b[0m\u001b[0;34m\u001b[0m\u001b[0;34m\u001b[0m\u001b[0m\n",
      "\u001b[0;32m~/anaconda3/lib/python3.7/urllib/request.py\u001b[0m in \u001b[0;36merror\u001b[0;34m(self, proto, *args)\u001b[0m\n\u001b[1;32m    561\u001b[0m             \u001b[0mhttp_err\u001b[0m \u001b[0;34m=\u001b[0m \u001b[0;36m0\u001b[0m\u001b[0;34m\u001b[0m\u001b[0;34m\u001b[0m\u001b[0m\n\u001b[1;32m    562\u001b[0m         \u001b[0margs\u001b[0m \u001b[0;34m=\u001b[0m \u001b[0;34m(\u001b[0m\u001b[0mdict\u001b[0m\u001b[0;34m,\u001b[0m \u001b[0mproto\u001b[0m\u001b[0;34m,\u001b[0m \u001b[0mmeth_name\u001b[0m\u001b[0;34m)\u001b[0m \u001b[0;34m+\u001b[0m \u001b[0margs\u001b[0m\u001b[0;34m\u001b[0m\u001b[0;34m\u001b[0m\u001b[0m\n\u001b[0;32m--> 563\u001b[0;31m         \u001b[0mresult\u001b[0m \u001b[0;34m=\u001b[0m \u001b[0mself\u001b[0m\u001b[0;34m.\u001b[0m\u001b[0m_call_chain\u001b[0m\u001b[0;34m(\u001b[0m\u001b[0;34m*\u001b[0m\u001b[0margs\u001b[0m\u001b[0;34m)\u001b[0m\u001b[0;34m\u001b[0m\u001b[0;34m\u001b[0m\u001b[0m\n\u001b[0m\u001b[1;32m    564\u001b[0m         \u001b[0;32mif\u001b[0m \u001b[0mresult\u001b[0m\u001b[0;34m:\u001b[0m\u001b[0;34m\u001b[0m\u001b[0;34m\u001b[0m\u001b[0m\n\u001b[1;32m    565\u001b[0m             \u001b[0;32mreturn\u001b[0m \u001b[0mresult\u001b[0m\u001b[0;34m\u001b[0m\u001b[0;34m\u001b[0m\u001b[0m\n",
      "\u001b[0;32m~/anaconda3/lib/python3.7/urllib/request.py\u001b[0m in \u001b[0;36m_call_chain\u001b[0;34m(self, chain, kind, meth_name, *args)\u001b[0m\n\u001b[1;32m    501\u001b[0m         \u001b[0;32mfor\u001b[0m \u001b[0mhandler\u001b[0m \u001b[0;32min\u001b[0m \u001b[0mhandlers\u001b[0m\u001b[0;34m:\u001b[0m\u001b[0;34m\u001b[0m\u001b[0;34m\u001b[0m\u001b[0m\n\u001b[1;32m    502\u001b[0m             \u001b[0mfunc\u001b[0m \u001b[0;34m=\u001b[0m \u001b[0mgetattr\u001b[0m\u001b[0;34m(\u001b[0m\u001b[0mhandler\u001b[0m\u001b[0;34m,\u001b[0m \u001b[0mmeth_name\u001b[0m\u001b[0;34m)\u001b[0m\u001b[0;34m\u001b[0m\u001b[0;34m\u001b[0m\u001b[0m\n\u001b[0;32m--> 503\u001b[0;31m             \u001b[0mresult\u001b[0m \u001b[0;34m=\u001b[0m \u001b[0mfunc\u001b[0m\u001b[0;34m(\u001b[0m\u001b[0;34m*\u001b[0m\u001b[0margs\u001b[0m\u001b[0;34m)\u001b[0m\u001b[0;34m\u001b[0m\u001b[0;34m\u001b[0m\u001b[0m\n\u001b[0m\u001b[1;32m    504\u001b[0m             \u001b[0;32mif\u001b[0m \u001b[0mresult\u001b[0m \u001b[0;32mis\u001b[0m \u001b[0;32mnot\u001b[0m \u001b[0;32mNone\u001b[0m\u001b[0;34m:\u001b[0m\u001b[0;34m\u001b[0m\u001b[0;34m\u001b[0m\u001b[0m\n\u001b[1;32m    505\u001b[0m                 \u001b[0;32mreturn\u001b[0m \u001b[0mresult\u001b[0m\u001b[0;34m\u001b[0m\u001b[0;34m\u001b[0m\u001b[0m\n",
      "\u001b[0;32m~/anaconda3/lib/python3.7/urllib/request.py\u001b[0m in \u001b[0;36mhttp_error_302\u001b[0;34m(self, req, fp, code, msg, headers)\u001b[0m\n\u001b[1;32m    753\u001b[0m         \u001b[0mfp\u001b[0m\u001b[0;34m.\u001b[0m\u001b[0mclose\u001b[0m\u001b[0;34m(\u001b[0m\u001b[0;34m)\u001b[0m\u001b[0;34m\u001b[0m\u001b[0;34m\u001b[0m\u001b[0m\n\u001b[1;32m    754\u001b[0m \u001b[0;34m\u001b[0m\u001b[0m\n\u001b[0;32m--> 755\u001b[0;31m         \u001b[0;32mreturn\u001b[0m \u001b[0mself\u001b[0m\u001b[0;34m.\u001b[0m\u001b[0mparent\u001b[0m\u001b[0;34m.\u001b[0m\u001b[0mopen\u001b[0m\u001b[0;34m(\u001b[0m\u001b[0mnew\u001b[0m\u001b[0;34m,\u001b[0m \u001b[0mtimeout\u001b[0m\u001b[0;34m=\u001b[0m\u001b[0mreq\u001b[0m\u001b[0;34m.\u001b[0m\u001b[0mtimeout\u001b[0m\u001b[0;34m)\u001b[0m\u001b[0;34m\u001b[0m\u001b[0;34m\u001b[0m\u001b[0m\n\u001b[0m\u001b[1;32m    756\u001b[0m \u001b[0;34m\u001b[0m\u001b[0m\n\u001b[1;32m    757\u001b[0m     \u001b[0mhttp_error_301\u001b[0m \u001b[0;34m=\u001b[0m \u001b[0mhttp_error_303\u001b[0m \u001b[0;34m=\u001b[0m \u001b[0mhttp_error_307\u001b[0m \u001b[0;34m=\u001b[0m \u001b[0mhttp_error_302\u001b[0m\u001b[0;34m\u001b[0m\u001b[0;34m\u001b[0m\u001b[0m\n",
      "\u001b[0;32m~/anaconda3/lib/python3.7/urllib/request.py\u001b[0m in \u001b[0;36mopen\u001b[0;34m(self, fullurl, data, timeout)\u001b[0m\n\u001b[1;32m    529\u001b[0m         \u001b[0;32mfor\u001b[0m \u001b[0mprocessor\u001b[0m \u001b[0;32min\u001b[0m \u001b[0mself\u001b[0m\u001b[0;34m.\u001b[0m\u001b[0mprocess_response\u001b[0m\u001b[0;34m.\u001b[0m\u001b[0mget\u001b[0m\u001b[0;34m(\u001b[0m\u001b[0mprotocol\u001b[0m\u001b[0;34m,\u001b[0m \u001b[0;34m[\u001b[0m\u001b[0;34m]\u001b[0m\u001b[0;34m)\u001b[0m\u001b[0;34m:\u001b[0m\u001b[0;34m\u001b[0m\u001b[0;34m\u001b[0m\u001b[0m\n\u001b[1;32m    530\u001b[0m             \u001b[0mmeth\u001b[0m \u001b[0;34m=\u001b[0m \u001b[0mgetattr\u001b[0m\u001b[0;34m(\u001b[0m\u001b[0mprocessor\u001b[0m\u001b[0;34m,\u001b[0m \u001b[0mmeth_name\u001b[0m\u001b[0;34m)\u001b[0m\u001b[0;34m\u001b[0m\u001b[0;34m\u001b[0m\u001b[0m\n\u001b[0;32m--> 531\u001b[0;31m             \u001b[0mresponse\u001b[0m \u001b[0;34m=\u001b[0m \u001b[0mmeth\u001b[0m\u001b[0;34m(\u001b[0m\u001b[0mreq\u001b[0m\u001b[0;34m,\u001b[0m \u001b[0mresponse\u001b[0m\u001b[0;34m)\u001b[0m\u001b[0;34m\u001b[0m\u001b[0;34m\u001b[0m\u001b[0m\n\u001b[0m\u001b[1;32m    532\u001b[0m \u001b[0;34m\u001b[0m\u001b[0m\n\u001b[1;32m    533\u001b[0m         \u001b[0;32mreturn\u001b[0m \u001b[0mresponse\u001b[0m\u001b[0;34m\u001b[0m\u001b[0;34m\u001b[0m\u001b[0m\n",
      "\u001b[0;32m~/anaconda3/lib/python3.7/urllib/request.py\u001b[0m in \u001b[0;36mhttp_response\u001b[0;34m(self, request, response)\u001b[0m\n\u001b[1;32m    639\u001b[0m         \u001b[0;32mif\u001b[0m \u001b[0;32mnot\u001b[0m \u001b[0;34m(\u001b[0m\u001b[0;36m200\u001b[0m \u001b[0;34m<=\u001b[0m \u001b[0mcode\u001b[0m \u001b[0;34m<\u001b[0m \u001b[0;36m300\u001b[0m\u001b[0;34m)\u001b[0m\u001b[0;34m:\u001b[0m\u001b[0;34m\u001b[0m\u001b[0;34m\u001b[0m\u001b[0m\n\u001b[1;32m    640\u001b[0m             response = self.parent.error(\n\u001b[0;32m--> 641\u001b[0;31m                 'http', request, response, code, msg, hdrs)\n\u001b[0m\u001b[1;32m    642\u001b[0m \u001b[0;34m\u001b[0m\u001b[0m\n\u001b[1;32m    643\u001b[0m         \u001b[0;32mreturn\u001b[0m \u001b[0mresponse\u001b[0m\u001b[0;34m\u001b[0m\u001b[0;34m\u001b[0m\u001b[0m\n",
      "\u001b[0;32m~/anaconda3/lib/python3.7/urllib/request.py\u001b[0m in \u001b[0;36merror\u001b[0;34m(self, proto, *args)\u001b[0m\n\u001b[1;32m    567\u001b[0m         \u001b[0;32mif\u001b[0m \u001b[0mhttp_err\u001b[0m\u001b[0;34m:\u001b[0m\u001b[0;34m\u001b[0m\u001b[0;34m\u001b[0m\u001b[0m\n\u001b[1;32m    568\u001b[0m             \u001b[0margs\u001b[0m \u001b[0;34m=\u001b[0m \u001b[0;34m(\u001b[0m\u001b[0mdict\u001b[0m\u001b[0;34m,\u001b[0m \u001b[0;34m'default'\u001b[0m\u001b[0;34m,\u001b[0m \u001b[0;34m'http_error_default'\u001b[0m\u001b[0;34m)\u001b[0m \u001b[0;34m+\u001b[0m \u001b[0morig_args\u001b[0m\u001b[0;34m\u001b[0m\u001b[0;34m\u001b[0m\u001b[0m\n\u001b[0;32m--> 569\u001b[0;31m             \u001b[0;32mreturn\u001b[0m \u001b[0mself\u001b[0m\u001b[0;34m.\u001b[0m\u001b[0m_call_chain\u001b[0m\u001b[0;34m(\u001b[0m\u001b[0;34m*\u001b[0m\u001b[0margs\u001b[0m\u001b[0;34m)\u001b[0m\u001b[0;34m\u001b[0m\u001b[0;34m\u001b[0m\u001b[0m\n\u001b[0m\u001b[1;32m    570\u001b[0m \u001b[0;34m\u001b[0m\u001b[0m\n\u001b[1;32m    571\u001b[0m \u001b[0;31m# XXX probably also want an abstract factory that knows when it makes\u001b[0m\u001b[0;34m\u001b[0m\u001b[0;34m\u001b[0m\u001b[0;34m\u001b[0m\u001b[0m\n",
      "\u001b[0;32m~/anaconda3/lib/python3.7/urllib/request.py\u001b[0m in \u001b[0;36m_call_chain\u001b[0;34m(self, chain, kind, meth_name, *args)\u001b[0m\n\u001b[1;32m    501\u001b[0m         \u001b[0;32mfor\u001b[0m \u001b[0mhandler\u001b[0m \u001b[0;32min\u001b[0m \u001b[0mhandlers\u001b[0m\u001b[0;34m:\u001b[0m\u001b[0;34m\u001b[0m\u001b[0;34m\u001b[0m\u001b[0m\n\u001b[1;32m    502\u001b[0m             \u001b[0mfunc\u001b[0m \u001b[0;34m=\u001b[0m \u001b[0mgetattr\u001b[0m\u001b[0;34m(\u001b[0m\u001b[0mhandler\u001b[0m\u001b[0;34m,\u001b[0m \u001b[0mmeth_name\u001b[0m\u001b[0;34m)\u001b[0m\u001b[0;34m\u001b[0m\u001b[0;34m\u001b[0m\u001b[0m\n\u001b[0;32m--> 503\u001b[0;31m             \u001b[0mresult\u001b[0m \u001b[0;34m=\u001b[0m \u001b[0mfunc\u001b[0m\u001b[0;34m(\u001b[0m\u001b[0;34m*\u001b[0m\u001b[0margs\u001b[0m\u001b[0;34m)\u001b[0m\u001b[0;34m\u001b[0m\u001b[0;34m\u001b[0m\u001b[0m\n\u001b[0m\u001b[1;32m    504\u001b[0m             \u001b[0;32mif\u001b[0m \u001b[0mresult\u001b[0m \u001b[0;32mis\u001b[0m \u001b[0;32mnot\u001b[0m \u001b[0;32mNone\u001b[0m\u001b[0;34m:\u001b[0m\u001b[0;34m\u001b[0m\u001b[0;34m\u001b[0m\u001b[0m\n\u001b[1;32m    505\u001b[0m                 \u001b[0;32mreturn\u001b[0m \u001b[0mresult\u001b[0m\u001b[0;34m\u001b[0m\u001b[0;34m\u001b[0m\u001b[0m\n",
      "\u001b[0;32m~/anaconda3/lib/python3.7/urllib/request.py\u001b[0m in \u001b[0;36mhttp_error_default\u001b[0;34m(self, req, fp, code, msg, hdrs)\u001b[0m\n\u001b[1;32m    647\u001b[0m \u001b[0;32mclass\u001b[0m \u001b[0mHTTPDefaultErrorHandler\u001b[0m\u001b[0;34m(\u001b[0m\u001b[0mBaseHandler\u001b[0m\u001b[0;34m)\u001b[0m\u001b[0;34m:\u001b[0m\u001b[0;34m\u001b[0m\u001b[0;34m\u001b[0m\u001b[0m\n\u001b[1;32m    648\u001b[0m     \u001b[0;32mdef\u001b[0m \u001b[0mhttp_error_default\u001b[0m\u001b[0;34m(\u001b[0m\u001b[0mself\u001b[0m\u001b[0;34m,\u001b[0m \u001b[0mreq\u001b[0m\u001b[0;34m,\u001b[0m \u001b[0mfp\u001b[0m\u001b[0;34m,\u001b[0m \u001b[0mcode\u001b[0m\u001b[0;34m,\u001b[0m \u001b[0mmsg\u001b[0m\u001b[0;34m,\u001b[0m \u001b[0mhdrs\u001b[0m\u001b[0;34m)\u001b[0m\u001b[0;34m:\u001b[0m\u001b[0;34m\u001b[0m\u001b[0;34m\u001b[0m\u001b[0m\n\u001b[0;32m--> 649\u001b[0;31m         \u001b[0;32mraise\u001b[0m \u001b[0mHTTPError\u001b[0m\u001b[0;34m(\u001b[0m\u001b[0mreq\u001b[0m\u001b[0;34m.\u001b[0m\u001b[0mfull_url\u001b[0m\u001b[0;34m,\u001b[0m \u001b[0mcode\u001b[0m\u001b[0;34m,\u001b[0m \u001b[0mmsg\u001b[0m\u001b[0;34m,\u001b[0m \u001b[0mhdrs\u001b[0m\u001b[0;34m,\u001b[0m \u001b[0mfp\u001b[0m\u001b[0;34m)\u001b[0m\u001b[0;34m\u001b[0m\u001b[0;34m\u001b[0m\u001b[0m\n\u001b[0m\u001b[1;32m    650\u001b[0m \u001b[0;34m\u001b[0m\u001b[0m\n\u001b[1;32m    651\u001b[0m \u001b[0;32mclass\u001b[0m \u001b[0mHTTPRedirectHandler\u001b[0m\u001b[0;34m(\u001b[0m\u001b[0mBaseHandler\u001b[0m\u001b[0;34m)\u001b[0m\u001b[0;34m:\u001b[0m\u001b[0;34m\u001b[0m\u001b[0;34m\u001b[0m\u001b[0m\n",
      "\u001b[0;31mHTTPError\u001b[0m: HTTP Error 404: Not Found"
     ]
    }
   ],
   "source": [
    "for a in aboutPages:\n",
    "    print('')\n",
    "    print('')\n",
    "    print(a)\n",
    "    print('')\n",
    "    \n",
    "    print(websiteText(a))"
   ]
  },
  {
   "cell_type": "markdown",
   "metadata": {},
   "source": [
    "# Reference"
   ]
  },
  {
   "cell_type": "raw",
   "metadata": {},
   "source": [
    "view-source:https://www.sfu.ca/etc/designs/clf/clientlibs/pack/head-2015.styles.min.css\n",
    "https://stackoverflow.com/questions/56458619/scraping-td-elements-with-background-color-style-beautifulsoup\n",
    "https://stackoverflow.com/questions/11501268/beautifulsoup-get-css-classes-from-html/39186369\n",
    "https://stackoverflow.com/questions/31163537/extracting-css-links-using-beautiful-soup\n",
    "    "
   ]
  },
  {
   "cell_type": "code",
   "execution_count": null,
   "metadata": {},
   "outputs": [],
   "source": []
  }
 ],
 "metadata": {
  "kernelspec": {
   "display_name": "Python 3",
   "language": "python",
   "name": "python3"
  },
  "language_info": {
   "codemirror_mode": {
    "name": "ipython",
    "version": 3
   },
   "file_extension": ".py",
   "mimetype": "text/x-python",
   "name": "python",
   "nbconvert_exporter": "python",
   "pygments_lexer": "ipython3",
   "version": "3.7.3"
  }
 },
 "nbformat": 4,
 "nbformat_minor": 4
}
