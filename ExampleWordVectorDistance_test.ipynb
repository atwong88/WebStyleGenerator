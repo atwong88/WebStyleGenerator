{
 "cells": [
  {
   "cell_type": "code",
   "execution_count": 10,
   "metadata": {},
   "outputs": [],
   "source": [
    "import gensim.downloader as api\n",
    "model = api.load('word2vec-google-news-300')"
   ]
  },
  {
   "cell_type": "code",
   "execution_count": 11,
   "metadata": {},
   "outputs": [],
   "source": [
    "import pandas as pd\n",
    "import nltk\n",
    "from gensim.similarities import WmdSimilarity\n",
    "import pickle"
   ]
  },
  {
   "cell_type": "code",
   "execution_count": 12,
   "metadata": {},
   "outputs": [
    {
     "name": "stderr",
     "output_type": "stream",
     "text": [
      "[nltk_data] Downloading package stopwords to C:\\Users\\Adriena\n",
      "[nltk_data]     Wong\\AppData\\Roaming\\nltk_data...\n",
      "[nltk_data]   Package stopwords is already up-to-date!\n"
     ]
    },
    {
     "data": {
      "text/plain": [
       "True"
      ]
     },
     "execution_count": 12,
     "metadata": {},
     "output_type": "execute_result"
    }
   ],
   "source": [
    "nltk.download('stopwords')"
   ]
  },
  {
   "cell_type": "code",
   "execution_count": 13,
   "metadata": {},
   "outputs": [],
   "source": [
    "from nltk.corpus import stopwords\n",
    "from nltk import download\n",
    "stop_words = stopwords.words('english')\n",
    "import gensim"
   ]
  },
  {
   "cell_type": "code",
   "execution_count": 14,
   "metadata": {},
   "outputs": [
    {
     "name": "stderr",
     "output_type": "stream",
     "text": [
      "[nltk_data] Downloading package punkt to C:\\Users\\Adriena\n",
      "[nltk_data]     Wong\\AppData\\Roaming\\nltk_data...\n",
      "[nltk_data]   Package punkt is already up-to-date!\n"
     ]
    }
   ],
   "source": [
    "from nltk import word_tokenize\n",
    "nltk.download('punkt')  # Download data for tokenizer.\n",
    "\n",
    "def preprocess(doc):\n",
    "    doc = doc.lower()  # Lower the text.\n",
    "    doc = word_tokenize(doc)  # Split into words.\n",
    "    doc = [w for w in doc if not w in stop_words]  # Remove stopwords.\n",
    "    doc = [w for w in doc if w.isalpha()]  # Remove numbers and punctuation.\n",
    "    return doc"
   ]
  },
  {
   "cell_type": "code",
   "execution_count": 15,
   "metadata": {},
   "outputs": [],
   "source": [
    "data = pd.read_csv('websites/ParsedWebsitesCleanSample.csv')"
   ]
  },
  {
   "cell_type": "code",
   "execution_count": 16,
   "metadata": {},
   "outputs": [],
   "source": [
    "data = data.dropna()"
   ]
  },
  {
   "cell_type": "code",
   "execution_count": 17,
   "metadata": {},
   "outputs": [],
   "source": [
    "documents = data.values"
   ]
  },
  {
   "cell_type": "code",
   "execution_count": 18,
   "metadata": {},
   "outputs": [],
   "source": [
    "wmd_corpus = data['text'].apply(preprocess).values"
   ]
  },
  {
   "cell_type": "code",
   "execution_count": 20,
   "metadata": {},
   "outputs": [],
   "source": [
    "instance = WmdSimilarity(wmd_corpus, model, num_best=10)"
   ]
  },
  {
   "cell_type": "code",
   "execution_count": 24,
   "metadata": {},
   "outputs": [
    {
     "name": "stderr",
     "output_type": "stream",
     "text": [
      "\n",
      "KeyboardInterrupt\n",
      "\n"
     ]
    }
   ],
   "source": [
    "pickle.dump(instance,open('WordMoverDistance-Instance.pkl','wb'))"
   ]
  },
  {
   "cell_type": "code",
   "execution_count": 100,
   "metadata": {},
   "outputs": [],
   "source": [
    "def similarityQuery(description):   \n",
    "    query = preprocess(description)\n",
    "    sims = instance[query]  # A query is simply a \"look-up\" in the similarity class.\n",
    "\n",
    "    # Print the query and the retrieved documents, together with their similarities.\n",
    "    results = []\n",
    "    print(description)\n",
    "    for i in range(3):\n",
    "\n",
    "        row = []\n",
    "        row.append(documents[sims[i][0]][0]) # WebsiteKey\n",
    "        row.append(documents[sims[i][0]][2]) # Website\n",
    "        row.append(documents[sims[i][0]][3]) # Colors\n",
    "        row.append(documents[sims[i][0]][4]) # Fonts\n",
    "        \n",
    "        row.append(documents[sims[i][0]][5]) # Text\n",
    "        \n",
    "        row.append(sims[i][1])    # Similarity\n",
    "\n",
    "\n",
    "        results.append(row)\n",
    "    resultsDF = pd.DataFrame(results)\n",
    "    #resultsDF.to_csv(description + '.csv')\n",
    "\n",
    "    resultsDF.columns = ['WebsiteKey','Website','Colours','Fonts','Text','Similarity']\n",
    "    resultsDF['Fonts'] = resultsDF['Fonts'].apply(repr)\n",
    "    resultsDF['Fonts'] = resultsDF['Fonts'].replace({'[]\\]]': '\\],'}, regex=True)\n",
    "    #resultsDF['Fonts'] = resultsDF['Fonts'].replace({'(\\],\\],)': '\\]\\]'}, regex=True)\n",
    "    resultsDF['Colours'] = resultsDF['Colours'].replace({' ': ', '}, regex=True)\n",
    "    resultsDF = resultsDF.sort_values(by=['Similarity'],ascending=False)\n",
    "    return resultsDF.style.set_properties(subset=['Text'], **{'width': '350px'})"
   ]
  },
  {
   "cell_type": "code",
   "execution_count": 101,
   "metadata": {},
   "outputs": [
    {
     "name": "stdout",
     "output_type": "stream",
     "text": [
      "evolution and consciouness and human self discovery lol\n"
     ]
    },
    {
     "data": {
      "text/html": [
       "<style  type=\"text/css\" >\n",
       "    #T_7afacff4_115c_11ea_a868_00dbdf518dacrow0_col4 {\n",
       "            width:  350px;\n",
       "        }    #T_7afacff4_115c_11ea_a868_00dbdf518dacrow1_col4 {\n",
       "            width:  350px;\n",
       "        }    #T_7afacff4_115c_11ea_a868_00dbdf518dacrow2_col4 {\n",
       "            width:  350px;\n",
       "        }</style><table id=\"T_7afacff4_115c_11ea_a868_00dbdf518dac\" ><thead>    <tr>        <th class=\"blank level0\" ></th>        <th class=\"col_heading level0 col0\" >WebsiteKey</th>        <th class=\"col_heading level0 col1\" >Website</th>        <th class=\"col_heading level0 col2\" >Colours</th>        <th class=\"col_heading level0 col3\" >Fonts</th>        <th class=\"col_heading level0 col4\" >Text</th>        <th class=\"col_heading level0 col5\" >Similarity</th>    </tr></thead><tbody>\n",
       "                <tr>\n",
       "                        <th id=\"T_7afacff4_115c_11ea_a868_00dbdf518daclevel0_row0\" class=\"row_heading level0 row0\" >0</th>\n",
       "                        <td id=\"T_7afacff4_115c_11ea_a868_00dbdf518dacrow0_col0\" class=\"data row0 col0\" >1</td>\n",
       "                        <td id=\"T_7afacff4_115c_11ea_a868_00dbdf518dacrow0_col1\" class=\"data row0 col1\" >evolvedself.com</td>\n",
       "                        <td id=\"T_7afacff4_115c_11ea_a868_00dbdf518dacrow0_col2\" class=\"data row0 col2\" >[['#FFFFFF', 24]\r\n",
       ", ['#143EBB', 8]\r\n",
       ", ['#FEFCFC', 8]]</td>\n",
       "                        <td id=\"T_7afacff4_115c_11ea_a868_00dbdf518dacrow0_col3\" class=\"data row0 col3\" >'[[\"font-family:\\'Open Sans\\'\" \\'7\\'\\],\\r\\n [\\'font-family:Arial\\' \\'52\\'\\],\\r\\n [\\'font-family:Times New Roman\\' \\'2\\'\\],\\],'</td>\n",
       "                        <td id=\"T_7afacff4_115c_11ea_a868_00dbdf518dacrow0_col4\" class=\"data row0 col4\" >\" rap \"\" \"\" \" What it improvement a what it Improvement Through a New Approach to Evolution The of applied in our and comedy a sleazy and a a Far Past I Find novel our thinking about evolution onto contribution to the field is original a version is deeply by the interaction between d and matter but also grounded in the ordinary of human action He thoughtfully that the quest for an origin story merely a matter of genetic also tied to of the human self and the and self through a finite commentary of human consciousness and the famous ABOUT present our new thinking about publisher at University College then went on to become writer and doubter of many evolutionary with of the for cog up evolution capable of accounting for what it classic an original survey of the development of evolutionary New Framework for Universal two and a we to the field astonishingly a deeply by the d and matter but also grounded in with of the up with of evolution capable for what we know it we of classic evolutionary provide survey of the development of our new and biochemistry at then went on to become a and doubter of IE a \" about \" \" \" class \" rap \" \" \" \"\"\" \" \"\"\" a if IE IE \" \" if</td>\n",
       "                        <td id=\"T_7afacff4_115c_11ea_a868_00dbdf518dacrow0_col5\" class=\"data row0 col5\" >0.468957</td>\n",
       "            </tr>\n",
       "            <tr>\n",
       "                        <th id=\"T_7afacff4_115c_11ea_a868_00dbdf518daclevel0_row1\" class=\"row_heading level0 row1\" >1</th>\n",
       "                        <td id=\"T_7afacff4_115c_11ea_a868_00dbdf518dacrow1_col0\" class=\"data row1 col0\" >170</td>\n",
       "                        <td id=\"T_7afacff4_115c_11ea_a868_00dbdf518dacrow1_col1\" class=\"data row1 col1\" >frozenevolution.com</td>\n",
       "                        <td id=\"T_7afacff4_115c_11ea_a868_00dbdf518dacrow1_col2\" class=\"data row1 col2\" >[['#D7E029', 2]\r\n",
       ", ['#F0F0EE', 2]\r\n",
       ", ['#EDF1F3', 1]]</td>\n",
       "                        <td id=\"T_7afacff4_115c_11ea_a868_00dbdf518dacrow1_col3\" class=\"data row1 col3\" >'[[\\'font-family:Arial,Helvetica,sans-serif\\' \\'2\\'\\],\\r\\n [\\'font-family:\"Bitstream Vera Sans Mono\",Monaco,\"Lucida Console\",monospace\\'\\r\\n  \\'1\\'\\],\\r\\n [\\'font-family:Impact,\"Arial Narrow\",Helvetica,sans-serif\\' \\'1\\'\\],\\],'</td>\n",
       "                        <td id=\"T_7afacff4_115c_11ea_a868_00dbdf518dacrow1_col4\" class=\"data row1 col4\" >not the way it Farewell to Selfish to Frozen plasticity theory by links of Evolution link of modification \" Most and biology think that evolutionary biology is basically a d chapter of what if this is not the way are ? What if evolutionary biology underwent a quite fundamental revolution in the s and s of the past which all the in this field should basically be ? c \" bRead $ links only for full node of plasticity link of theory a mechanism of the origin of adaptive in classical mechanism of the origin of adaptive by natural ion can the evolution of such only under a very special a genetically homogeneous population of frozen plasticity theory is much more can also the origin and evolution of adaptive in a genetically heterogeneous population of Read $ links only for full node of Secret Guide to Practical Science How we unintentionally discovered the function of the factor and probably mystery of link of luck always an in think that true for only the general significance of luck in science is can bring the most entirely usually upon when is what in the case of one of possibly the which revealed the influence of the factor on latent in Read $ of $ links only for full node of node block Frozen plasticity the How to Evolution book Load the book Buy to block block About \" s \" block block main by lower added $ footer $ and $ by powered open lower</td>\n",
       "                        <td id=\"T_7afacff4_115c_11ea_a868_00dbdf518dacrow1_col5\" class=\"data row1 col5\" >0.453357</td>\n",
       "            </tr>\n",
       "            <tr>\n",
       "                        <th id=\"T_7afacff4_115c_11ea_a868_00dbdf518daclevel0_row2\" class=\"row_heading level0 row2\" >2</th>\n",
       "                        <td id=\"T_7afacff4_115c_11ea_a868_00dbdf518dacrow2_col0\" class=\"data row2 col0\" >257</td>\n",
       "                        <td id=\"T_7afacff4_115c_11ea_a868_00dbdf518dacrow2_col1\" class=\"data row2 col1\" >pdn.cam.ac.uk</td>\n",
       "                        <td id=\"T_7afacff4_115c_11ea_a868_00dbdf518dacrow2_col2\" class=\"data row2 col2\" >[['#0c5963', 8]\r\n",
       ", ['#5F5F5F', 7]\r\n",
       ", [', #003a4', 4]]</td>\n",
       "                        <td id=\"T_7afacff4_115c_11ea_a868_00dbdf518dacrow2_col3\" class=\"data row2 col3\" >'[[\\'font-family: \"Helvetica Neue\", Arial, FreeSans, sans-serif\\' \\'2\\'\\],\\r\\n [\\'font-family: verdana, arial, sans-serif\\' \\'2\\'\\],\\r\\n [\\'font-family:Arial,FreeSans,sans-serif\\' \\'2\\'\\],\\],'</td>\n",
       "                        <td id=\"T_7afacff4_115c_11ea_a868_00dbdf518dacrow2_col4\" class=\"data row2 col4\" >b if \" \" if \" \" if \" ie \" skip to primary to Study the open to and professional the the University and the and an Public engagement Give business &&&& phone of of us of past and of the Physiological of Veterinary merger of Anatomy and of the physiological of the physiological laboratory Overview Overview Research staff Overview Architecture of the Body Histology Anatomy and Physiology Vertebrate and Neck Human Behaviour and Animal information read Physiology ? Frequently and sessions and about the future ? Veterinary Reproductive for advice about of B Physiology A Functional Architecture of the Body & Histology & A Homeostasis Veterinary Anatomy and Physiology Comparative Vertebrate Biology Head and Neck Anatomy Human Reproduction and Human Behaviour & Animal Reproductive Biology Overview How to to apply to Apply School of Basic and Translational and biology and and function Overview Anatomy Teaching Anatomy Teaching Group Architecture of the and Neck Human Surgical and Radiological with clinical and a course with museum to the Virtual and pathological limb Human anatomy virtual engagement Overview synapse formation brain cancer in pregnancy health of obese by Department an teaching for and offer and for training in to the degree in the Biological Read in is primarily in four and and Reproductive Form and Trophoblast aim of the is to alleviate suffering resulting of pregnancy that remain a major cause of maternal and is a visionary initiative to promote working across the University on the application of advanced technology to more Latest Fellowship \" s work in machine learning been by the national institute for data science and artificial intelligence \" clustering and dispersal at wounds study by the lab in new was chosen as the w of an internal competition among its synapse formation brain cancer study just in a team</td>\n",
       "                        <td id=\"T_7afacff4_115c_11ea_a868_00dbdf518dacrow2_col5\" class=\"data row2 col5\" >0.453322</td>\n",
       "            </tr>\n",
       "    </tbody></table>"
      ],
      "text/plain": [
       "<pandas.io.formats.style.Styler at 0x2d7b9337048>"
      ]
     },
     "execution_count": 101,
     "metadata": {},
     "output_type": "execute_result"
    }
   ],
   "source": [
    "similarityQuery('evolution and consciouness and human self discovery lol')"
   ]
  },
  {
   "cell_type": "code",
   "execution_count": null,
   "metadata": {},
   "outputs": [],
   "source": [
    "similarityQuery('basketball jerseys are on sale')"
   ]
  },
  {
   "cell_type": "code",
   "execution_count": 30,
   "metadata": {},
   "outputs": [],
   "source": [
    "from pyemd import emd\n",
    "from gensim.similarities import WmdSimilarity"
   ]
  },
  {
   "cell_type": "code",
   "execution_count": null,
   "metadata": {},
   "outputs": [],
   "source": [
    "'\\\" ': '\\\", ', '\\' ': '\\', ', "
   ]
  }
 ],
 "metadata": {
  "kernelspec": {
   "display_name": "Python 3",
   "language": "python",
   "name": "python3"
  },
  "language_info": {
   "codemirror_mode": {
    "name": "ipython",
    "version": 3
   },
   "file_extension": ".py",
   "mimetype": "text/x-python",
   "name": "python",
   "nbconvert_exporter": "python",
   "pygments_lexer": "ipython3",
   "version": "3.7.4"
  }
 },
 "nbformat": 4,
 "nbformat_minor": 4
}
